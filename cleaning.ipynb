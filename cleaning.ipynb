{
 "cells": [
  {
   "cell_type": "code",
   "execution_count": 51,
   "metadata": {},
   "outputs": [],
   "source": [
    "import re\n",
    "import polars as pl"
   ]
  },
  {
   "cell_type": "code",
   "execution_count": 52,
   "metadata": {},
   "outputs": [
    {
     "data": {
      "text/html": [
       "<div><style>\n",
       ".dataframe > thead > tr,\n",
       ".dataframe > tbody > tr {\n",
       "  text-align: right;\n",
       "  white-space: pre-wrap;\n",
       "}\n",
       "</style>\n",
       "<small>shape: (5, 56)</small><table border=\"1\" class=\"dataframe\"><thead><tr><th>coaster_name</th><th>Length</th><th>Speed</th><th>Location</th><th>Status</th><th>Opening date</th><th>Type</th><th>Manufacturer</th><th>Height restriction</th><th>Model</th><th>Height</th><th>Inversions</th><th>Lift/launch system</th><th>Cost</th><th>Trains</th><th>Park section</th><th>Duration</th><th>Capacity</th><th>G-force</th><th>Designer</th><th>Max vertical angle</th><th>Drop</th><th>Soft opening date</th><th>Fast Lane available</th><th>Replaced</th><th>Track layout</th><th>Fastrack available</th><th>Soft opening date.1</th><th>Closing date</th><th>Opened</th><th>Replaced by</th><th>Website</th><th>Flash Pass Available</th><th>Must transfer from wheelchair</th><th>Theme</th><th>Single rider line available</th><th>Restraint Style</th><th>Flash Pass available</th><th>Acceleration</th><th>Restraints</th><th>Name</th><th>year_introduced</th><th>latitude</th><th>longitude</th><th>Type_Main</th><th>opening_date_clean</th><th>speed1</th><th>speed2</th><th>speed1_value</th><th>speed1_unit</th><th>speed_mph</th><th>height_value</th><th>height_unit</th><th>height_ft</th><th>Inversions_clean</th><th>Gforce_clean</th></tr><tr><td>str</td><td>str</td><td>str</td><td>str</td><td>str</td><td>str</td><td>str</td><td>str</td><td>str</td><td>str</td><td>str</td><td>i64</td><td>str</td><td>str</td><td>str</td><td>str</td><td>str</td><td>str</td><td>str</td><td>str</td><td>str</td><td>str</td><td>str</td><td>str</td><td>str</td><td>str</td><td>str</td><td>str</td><td>str</td><td>str</td><td>str</td><td>str</td><td>str</td><td>str</td><td>str</td><td>str</td><td>str</td><td>str</td><td>str</td><td>str</td><td>str</td><td>i64</td><td>f64</td><td>f64</td><td>str</td><td>str</td><td>str</td><td>str</td><td>f64</td><td>str</td><td>f64</td><td>f64</td><td>str</td><td>f64</td><td>i64</td><td>f64</td></tr></thead><tbody><tr><td>&quot;Switchback Railway&quot;</td><td>&quot;600 ft (180 m)&quot;</td><td>&quot;6 mph (9.7 km/h)&quot;</td><td>&quot;Coney Island&quot;</td><td>&quot;Removed&quot;</td><td>&quot;June 16, 1884&quot;</td><td>&quot;Wood&quot;</td><td>&quot;LaMarcus Adna Thompson&quot;</td><td>null</td><td>&quot;Lift Packed&quot;</td><td>&quot;50 ft (15 m)&quot;</td><td>null</td><td>&quot;gravity&quot;</td><td>null</td><td>null</td><td>&quot;Coney Island Cyclone Site&quot;</td><td>&quot;1:00&quot;</td><td>&quot;1600 riders per hour&quot;</td><td>&quot;2.9&quot;</td><td>&quot;LaMarcus Adna Thompson&quot;</td><td>&quot;30°&quot;</td><td>&quot;43 ft (13 m)&quot;</td><td>null</td><td>null</td><td>null</td><td>&quot;Gravity pulled coaster&quot;</td><td>null</td><td>null</td><td>null</td><td>null</td><td>null</td><td>null</td><td>null</td><td>null</td><td>null</td><td>null</td><td>null</td><td>null</td><td>null</td><td>null</td><td>null</td><td>1884</td><td>40.574</td><td>-73.978</td><td>&quot;Wood&quot;</td><td>&quot;1884-06-16&quot;</td><td>&quot;6 mph &quot;</td><td>&quot;9.7 km/h&quot;</td><td>6.0</td><td>&quot;mph&quot;</td><td>6.0</td><td>50.0</td><td>&quot;ft&quot;</td><td>null</td><td>0</td><td>2.9</td></tr><tr><td>&quot;Flip Flap Railway&quot;</td><td>null</td><td>null</td><td>&quot;Sea Lion Park&quot;</td><td>&quot;Removed&quot;</td><td>&quot;1895&quot;</td><td>&quot;Wood&quot;</td><td>&quot;Lina Beecher&quot;</td><td>null</td><td>null</td><td>null</td><td>1</td><td>null</td><td>null</td><td>&quot;a single car. Riders are arran…</td><td>null</td><td>null</td><td>null</td><td>&quot;12&quot;</td><td>&quot;Lina Beecher&quot;</td><td>null</td><td>null</td><td>null</td><td>null</td><td>null</td><td>null</td><td>null</td><td>null</td><td>&quot;1902&quot;</td><td>null</td><td>null</td><td>null</td><td>null</td><td>null</td><td>null</td><td>null</td><td>null</td><td>null</td><td>null</td><td>null</td><td>null</td><td>1895</td><td>40.578</td><td>-73.979</td><td>&quot;Wood&quot;</td><td>&quot;1895-01-01&quot;</td><td>null</td><td>null</td><td>null</td><td>null</td><td>null</td><td>null</td><td>null</td><td>null</td><td>1</td><td>12.0</td></tr><tr><td>&quot;Switchback Railway (Euclid Bea…</td><td>null</td><td>null</td><td>&quot;Cleveland, Ohio, United States&quot;</td><td>&quot;Closed&quot;</td><td>null</td><td>&quot;Other&quot;</td><td>null</td><td>null</td><td>null</td><td>null</td><td>null</td><td>null</td><td>null</td><td>null</td><td>null</td><td>null</td><td>null</td><td>null</td><td>null</td><td>null</td><td>null</td><td>null</td><td>null</td><td>null</td><td>null</td><td>null</td><td>null</td><td>null</td><td>&quot;1895&quot;</td><td>null</td><td>null</td><td>null</td><td>null</td><td>null</td><td>null</td><td>null</td><td>null</td><td>null</td><td>null</td><td>null</td><td>1896</td><td>41.58</td><td>-81.57</td><td>&quot;Other&quot;</td><td>null</td><td>null</td><td>null</td><td>null</td><td>null</td><td>null</td><td>null</td><td>null</td><td>null</td><td>0</td><td>null</td></tr><tr><td>&quot;Loop the Loop (Coney Island)&quot;</td><td>null</td><td>null</td><td>&quot;Other&quot;</td><td>&quot;Removed&quot;</td><td>&quot;1901&quot;</td><td>&quot;Steel&quot;</td><td>&quot;Edwin Prescott&quot;</td><td>null</td><td>null</td><td>null</td><td>1</td><td>null</td><td>null</td><td>&quot;a single car. Riders are arran…</td><td>null</td><td>null</td><td>null</td><td>null</td><td>&quot;Edward A. Green&quot;</td><td>null</td><td>null</td><td>null</td><td>null</td><td>&quot;Switchback Railway&quot;</td><td>null</td><td>null</td><td>null</td><td>&quot;1910&quot;</td><td>null</td><td>&quot;Giant Racer&quot;</td><td>null</td><td>null</td><td>null</td><td>null</td><td>null</td><td>null</td><td>null</td><td>null</td><td>null</td><td>null</td><td>1901</td><td>40.5745</td><td>-73.978</td><td>&quot;Steel&quot;</td><td>&quot;1901-01-01&quot;</td><td>null</td><td>null</td><td>null</td><td>null</td><td>null</td><td>null</td><td>null</td><td>null</td><td>1</td><td>null</td></tr><tr><td>&quot;Loop the Loop (Young&#x27;s Pier)&quot;</td><td>null</td><td>null</td><td>&quot;Other&quot;</td><td>&quot;Removed&quot;</td><td>&quot;1901&quot;</td><td>&quot;Steel&quot;</td><td>&quot;Edwin Prescott&quot;</td><td>null</td><td>null</td><td>null</td><td>1</td><td>null</td><td>null</td><td>null</td><td>null</td><td>null</td><td>null</td><td>null</td><td>&quot;Edward A. Green&quot;</td><td>null</td><td>null</td><td>null</td><td>null</td><td>null</td><td>null</td><td>null</td><td>null</td><td>&quot;1912&quot;</td><td>null</td><td>null</td><td>null</td><td>null</td><td>null</td><td>null</td><td>null</td><td>null</td><td>null</td><td>null</td><td>null</td><td>null</td><td>1901</td><td>39.3538</td><td>-74.4342</td><td>&quot;Steel&quot;</td><td>&quot;1901-01-01&quot;</td><td>null</td><td>null</td><td>null</td><td>null</td><td>null</td><td>null</td><td>null</td><td>null</td><td>1</td><td>null</td></tr></tbody></table></div>"
      ],
      "text/plain": [
       "shape: (5, 56)\n",
       "┌────────────┬────────────┬───────┬────────────┬───┬───────────┬───────────┬───────────┬───────────┐\n",
       "│ coaster_na ┆ Length     ┆ Speed ┆ Location   ┆ … ┆ height_un ┆ height_ft ┆ Inversion ┆ Gforce_cl │\n",
       "│ me         ┆ ---        ┆ ---   ┆ ---        ┆   ┆ it        ┆ ---       ┆ s_clean   ┆ ean       │\n",
       "│ ---        ┆ str        ┆ str   ┆ str        ┆   ┆ ---       ┆ f64       ┆ ---       ┆ ---       │\n",
       "│ str        ┆            ┆       ┆            ┆   ┆ str       ┆           ┆ i64       ┆ f64       │\n",
       "╞════════════╪════════════╪═══════╪════════════╪═══╪═══════════╪═══════════╪═══════════╪═══════════╡\n",
       "│ Switchback ┆ 600 ft     ┆ 6 mph ┆ Coney      ┆ … ┆ ft        ┆ null      ┆ 0         ┆ 2.9       │\n",
       "│ Railway    ┆ (180 m)    ┆ (9.7  ┆ Island     ┆   ┆           ┆           ┆           ┆           │\n",
       "│            ┆            ┆ km/h) ┆            ┆   ┆           ┆           ┆           ┆           │\n",
       "│ Flip Flap  ┆ null       ┆ null  ┆ Sea Lion   ┆ … ┆ null      ┆ null      ┆ 1         ┆ 12.0      │\n",
       "│ Railway    ┆            ┆       ┆ Park       ┆   ┆           ┆           ┆           ┆           │\n",
       "│ Switchback ┆ null       ┆ null  ┆ Cleveland, ┆ … ┆ null      ┆ null      ┆ 0         ┆ null      │\n",
       "│ Railway    ┆            ┆       ┆ Ohio,      ┆   ┆           ┆           ┆           ┆           │\n",
       "│ (Euclid    ┆            ┆       ┆ United     ┆   ┆           ┆           ┆           ┆           │\n",
       "│ Bea…       ┆            ┆       ┆ States     ┆   ┆           ┆           ┆           ┆           │\n",
       "│ Loop the   ┆ null       ┆ null  ┆ Other      ┆ … ┆ null      ┆ null      ┆ 1         ┆ null      │\n",
       "│ Loop       ┆            ┆       ┆            ┆   ┆           ┆           ┆           ┆           │\n",
       "│ (Coney     ┆            ┆       ┆            ┆   ┆           ┆           ┆           ┆           │\n",
       "│ Island)    ┆            ┆       ┆            ┆   ┆           ┆           ┆           ┆           │\n",
       "│ Loop the   ┆ null       ┆ null  ┆ Other      ┆ … ┆ null      ┆ null      ┆ 1         ┆ null      │\n",
       "│ Loop       ┆            ┆       ┆            ┆   ┆           ┆           ┆           ┆           │\n",
       "│ (Young's   ┆            ┆       ┆            ┆   ┆           ┆           ┆           ┆           │\n",
       "│ Pier)      ┆            ┆       ┆            ┆   ┆           ┆           ┆           ┆           │\n",
       "└────────────┴────────────┴───────┴────────────┴───┴───────────┴───────────┴───────────┴───────────┘"
      ]
     },
     "execution_count": 52,
     "metadata": {},
     "output_type": "execute_result"
    }
   ],
   "source": [
    "df = pl.read_csv(r'./data/coaster_db.csv')\n",
    "df.head()"
   ]
  },
  {
   "cell_type": "markdown",
   "metadata": {},
   "source": [
    "### Filter columns\n"
   ]
  },
  {
   "cell_type": "code",
   "execution_count": 53,
   "metadata": {},
   "outputs": [
    {
     "data": {
      "text/html": [
       "<div><style>\n",
       ".dataframe > thead > tr,\n",
       ".dataframe > tbody > tr {\n",
       "  text-align: right;\n",
       "  white-space: pre-wrap;\n",
       "}\n",
       "</style>\n",
       "<small>shape: (1, 15)</small><table border=\"1\" class=\"dataframe\"><thead><tr><th>coaster_name</th><th>Location</th><th>Status</th><th>Type_Main</th><th>Manufacturer</th><th>Length</th><th>Height</th><th>speed2</th><th>Duration</th><th>Capacity</th><th>Gforce_clean</th><th>opening_date_clean</th><th>Closing date</th><th>latitude</th><th>longitude</th></tr><tr><td>str</td><td>str</td><td>str</td><td>str</td><td>str</td><td>str</td><td>str</td><td>str</td><td>str</td><td>str</td><td>f64</td><td>str</td><td>str</td><td>f64</td><td>f64</td></tr></thead><tbody><tr><td>&quot;Switchback Railway&quot;</td><td>&quot;Coney Island&quot;</td><td>&quot;Removed&quot;</td><td>&quot;Wood&quot;</td><td>&quot;LaMarcus Adna Thompson&quot;</td><td>&quot;600 ft (180 m)&quot;</td><td>&quot;50 ft (15 m)&quot;</td><td>&quot;9.7 km/h&quot;</td><td>&quot;1:00&quot;</td><td>&quot;1600 riders per hour&quot;</td><td>2.9</td><td>&quot;1884-06-16&quot;</td><td>null</td><td>40.574</td><td>-73.978</td></tr></tbody></table></div>"
      ],
      "text/plain": [
       "shape: (1, 15)\n",
       "┌────────────┬────────────┬─────────┬───────────┬───┬───────────┬───────────┬──────────┬───────────┐\n",
       "│ coaster_na ┆ Location   ┆ Status  ┆ Type_Main ┆ … ┆ opening_d ┆ Closing   ┆ latitude ┆ longitude │\n",
       "│ me         ┆ ---        ┆ ---     ┆ ---       ┆   ┆ ate_clean ┆ date      ┆ ---      ┆ ---       │\n",
       "│ ---        ┆ str        ┆ str     ┆ str       ┆   ┆ ---       ┆ ---       ┆ f64      ┆ f64       │\n",
       "│ str        ┆            ┆         ┆           ┆   ┆ str       ┆ str       ┆          ┆           │\n",
       "╞════════════╪════════════╪═════════╪═══════════╪═══╪═══════════╪═══════════╪══════════╪═══════════╡\n",
       "│ Switchback ┆ Coney      ┆ Removed ┆ Wood      ┆ … ┆ 1884-06-1 ┆ null      ┆ 40.574   ┆ -73.978   │\n",
       "│ Railway    ┆ Island     ┆         ┆           ┆   ┆ 6         ┆           ┆          ┆           │\n",
       "└────────────┴────────────┴─────────┴───────────┴───┴───────────┴───────────┴──────────┴───────────┘"
      ]
     },
     "execution_count": 53,
     "metadata": {},
     "output_type": "execute_result"
    }
   ],
   "source": [
    "df = df[[\n",
    "    'coaster_name', 'Location', 'Status', 'Type_Main', 'Manufacturer',\n",
    "    'Length', 'Height', 'speed2', 'Duration', 'Capacity', 'Gforce_clean',\n",
    "    'opening_date_clean', 'Closing date', 'latitude', 'longitude'\n",
    "]]\n",
    "df.head(1)"
   ]
  },
  {
   "cell_type": "markdown",
   "metadata": {},
   "source": [
    "### Rename columns\n"
   ]
  },
  {
   "cell_type": "code",
   "execution_count": 54,
   "metadata": {},
   "outputs": [
    {
     "data": {
      "text/html": [
       "<div><style>\n",
       ".dataframe > thead > tr,\n",
       ".dataframe > tbody > tr {\n",
       "  text-align: right;\n",
       "  white-space: pre-wrap;\n",
       "}\n",
       "</style>\n",
       "<small>shape: (1, 15)</small><table border=\"1\" class=\"dataframe\"><thead><tr><th>name</th><th>location</th><th>status</th><th>material</th><th>manufacturer</th><th>length_in_m</th><th>height_in_m</th><th>speed_in_kmh</th><th>duration</th><th>capacity</th><th>g_force</th><th>opening_date</th><th>closing_year</th><th>latitude</th><th>longitude</th></tr><tr><td>str</td><td>str</td><td>str</td><td>str</td><td>str</td><td>str</td><td>str</td><td>str</td><td>str</td><td>str</td><td>f64</td><td>str</td><td>str</td><td>f64</td><td>f64</td></tr></thead><tbody><tr><td>&quot;Switchback Railway&quot;</td><td>&quot;Coney Island&quot;</td><td>&quot;Removed&quot;</td><td>&quot;Wood&quot;</td><td>&quot;LaMarcus Adna Thompson&quot;</td><td>&quot;600 ft (180 m)&quot;</td><td>&quot;50 ft (15 m)&quot;</td><td>&quot;9.7 km/h&quot;</td><td>&quot;1:00&quot;</td><td>&quot;1600 riders per hour&quot;</td><td>2.9</td><td>&quot;1884-06-16&quot;</td><td>null</td><td>40.574</td><td>-73.978</td></tr></tbody></table></div>"
      ],
      "text/plain": [
       "shape: (1, 15)\n",
       "┌────────────┬────────────┬─────────┬──────────┬───┬────────────┬───────────┬──────────┬───────────┐\n",
       "│ name       ┆ location   ┆ status  ┆ material ┆ … ┆ opening_da ┆ closing_y ┆ latitude ┆ longitude │\n",
       "│ ---        ┆ ---        ┆ ---     ┆ ---      ┆   ┆ te         ┆ ear       ┆ ---      ┆ ---       │\n",
       "│ str        ┆ str        ┆ str     ┆ str      ┆   ┆ ---        ┆ ---       ┆ f64      ┆ f64       │\n",
       "│            ┆            ┆         ┆          ┆   ┆ str        ┆ str       ┆          ┆           │\n",
       "╞════════════╪════════════╪═════════╪══════════╪═══╪════════════╪═══════════╪══════════╪═══════════╡\n",
       "│ Switchback ┆ Coney      ┆ Removed ┆ Wood     ┆ … ┆ 1884-06-16 ┆ null      ┆ 40.574   ┆ -73.978   │\n",
       "│ Railway    ┆ Island     ┆         ┆          ┆   ┆            ┆           ┆          ┆           │\n",
       "└────────────┴────────────┴─────────┴──────────┴───┴────────────┴───────────┴──────────┴───────────┘"
      ]
     },
     "execution_count": 54,
     "metadata": {},
     "output_type": "execute_result"
    }
   ],
   "source": [
    "df = df.rename(lambda col: col.lower().replace(' ', '_'))\n",
    "df = df.rename({\n",
    "    'coaster_name': 'name',\n",
    "    'type_main': 'material',\n",
    "    'opening_date_clean': 'opening_date',\n",
    "    'closing_date': 'closing_year',\n",
    "    'speed2': 'speed_in_kmh',\n",
    "    'duration': 'duration',\n",
    "    'gforce_clean': 'g_force',\n",
    "    'length': 'length_in_m',\n",
    "    'height': 'height_in_m'\n",
    "})\n",
    "df.head(1)"
   ]
  },
  {
   "cell_type": "markdown",
   "metadata": {},
   "source": [
    "### Change status column's values\n"
   ]
  },
  {
   "cell_type": "code",
   "execution_count": 55,
   "metadata": {},
   "outputs": [
    {
     "name": "stdout",
     "output_type": "stream",
     "text": [
      "Before:\n"
     ]
    },
    {
     "data": {
      "text/plain": [
       "['SBNO December 2019',\n",
       " None,\n",
       " 'Temporarily closed',\n",
       " 'Removed',\n",
       " 'closed for maintenance as of july 30 no reopening date known',\n",
       " 'Temporarily Closed',\n",
       " 'Not Currently Operating',\n",
       " 'Chapter 7 bankruptcy; rides dismantled and sold; property sold',\n",
       " 'In Production',\n",
       " 'Closed in 2021',\n",
       " 'SBNO (Standing But Not Operating)',\n",
       " 'Discontinued',\n",
       " 'Under Maintenance',\n",
       " 'Under construction',\n",
       " 'Closed',\n",
       " 'Operating']"
      ]
     },
     "metadata": {},
     "output_type": "display_data"
    },
    {
     "name": "stdout",
     "output_type": "stream",
     "text": [
      "After:\n"
     ]
    },
    {
     "data": {
      "text/plain": [
       "['closed',\n",
       " 'operating',\n",
       " 'unknown',\n",
       " 'in_production',\n",
       " 'under_maintenance',\n",
       " 'sbno',\n",
       " 'temporary_closed']"
      ]
     },
     "metadata": {},
     "output_type": "display_data"
    }
   ],
   "source": [
    "def change_status(status: str) -> str:\n",
    "    temporary_closed = (\n",
    "        'Temporarily closed', 'Temporarily Closed',\n",
    "    )\n",
    "\n",
    "    closed = (\n",
    "        'Closed', 'Closed in 2021', 'Not Currently Operating',\n",
    "        'Discontinued', 'Removed',\n",
    "        'Chapter 7 bankruptcy; rides dismantled and sold; property sold'\n",
    "    )\n",
    "\n",
    "    sbno = (\n",
    "        'SBNO (Standing But Not Operating)', 'SBNO December 2019'\n",
    "    )\n",
    "\n",
    "    under_maintenance = (\n",
    "        'Under Maintenance',\n",
    "        'closed for maintenance as of july 30 no reopening date known'\n",
    "    )\n",
    "\n",
    "    result = ''\n",
    "\n",
    "    if status in temporary_closed:\n",
    "        result = 'temporary_closed'\n",
    "    elif status in closed:\n",
    "        result = 'closed'\n",
    "    elif status in sbno:\n",
    "        result = 'sbno'\n",
    "    elif status in under_maintenance:\n",
    "        result = 'under_maintenance'\n",
    "    elif status == 'Under construction':\n",
    "        result = 'In Production'\n",
    "    else:\n",
    "        result = status\n",
    "\n",
    "    return result.lower().replace(' ', '_')\n",
    "\n",
    "\n",
    "print('Before:')\n",
    "display(df['status'].unique().to_list())\n",
    "\n",
    "df = df.with_columns(pl.col('status').fill_null('unknown'))\n",
    "df = df.with_columns(pl.col('status').map_elements(\n",
    "    change_status, return_dtype=pl.String).cast(pl.Categorical))\n",
    "\n",
    "print('After:')\n",
    "display(df['status'].unique().to_list())"
   ]
  },
  {
   "cell_type": "markdown",
   "metadata": {},
   "source": [
    "### Convert material column type to categorical\n"
   ]
  },
  {
   "cell_type": "code",
   "execution_count": 56,
   "metadata": {},
   "outputs": [
    {
     "data": {
      "text/html": [
       "<div><style>\n",
       ".dataframe > thead > tr,\n",
       ".dataframe > tbody > tr {\n",
       "  text-align: right;\n",
       "  white-space: pre-wrap;\n",
       "}\n",
       "</style>\n",
       "<small>shape: (1, 15)</small><table border=\"1\" class=\"dataframe\"><thead><tr><th>name</th><th>location</th><th>status</th><th>material</th><th>manufacturer</th><th>length_in_m</th><th>height_in_m</th><th>speed_in_kmh</th><th>duration</th><th>capacity</th><th>g_force</th><th>opening_date</th><th>closing_year</th><th>latitude</th><th>longitude</th></tr><tr><td>str</td><td>str</td><td>cat</td><td>cat</td><td>str</td><td>str</td><td>str</td><td>str</td><td>str</td><td>str</td><td>f64</td><td>str</td><td>str</td><td>f64</td><td>f64</td></tr></thead><tbody><tr><td>&quot;Switchback Railway&quot;</td><td>&quot;Coney Island&quot;</td><td>&quot;closed&quot;</td><td>&quot;wood&quot;</td><td>&quot;LaMarcus Adna Thompson&quot;</td><td>&quot;600 ft (180 m)&quot;</td><td>&quot;50 ft (15 m)&quot;</td><td>&quot;9.7 km/h&quot;</td><td>&quot;1:00&quot;</td><td>&quot;1600 riders per hour&quot;</td><td>2.9</td><td>&quot;1884-06-16&quot;</td><td>null</td><td>40.574</td><td>-73.978</td></tr></tbody></table></div>"
      ],
      "text/plain": [
       "shape: (1, 15)\n",
       "┌────────────┬────────────┬────────┬──────────┬───┬────────────┬────────────┬──────────┬───────────┐\n",
       "│ name       ┆ location   ┆ status ┆ material ┆ … ┆ opening_da ┆ closing_ye ┆ latitude ┆ longitude │\n",
       "│ ---        ┆ ---        ┆ ---    ┆ ---      ┆   ┆ te         ┆ ar         ┆ ---      ┆ ---       │\n",
       "│ str        ┆ str        ┆ cat    ┆ cat      ┆   ┆ ---        ┆ ---        ┆ f64      ┆ f64       │\n",
       "│            ┆            ┆        ┆          ┆   ┆ str        ┆ str        ┆          ┆           │\n",
       "╞════════════╪════════════╪════════╪══════════╪═══╪════════════╪════════════╪══════════╪═══════════╡\n",
       "│ Switchback ┆ Coney      ┆ closed ┆ wood     ┆ … ┆ 1884-06-16 ┆ null       ┆ 40.574   ┆ -73.978   │\n",
       "│ Railway    ┆ Island     ┆        ┆          ┆   ┆            ┆            ┆          ┆           │\n",
       "└────────────┴────────────┴────────┴──────────┴───┴────────────┴────────────┴──────────┴───────────┘"
      ]
     },
     "execution_count": 56,
     "metadata": {},
     "output_type": "execute_result"
    }
   ],
   "source": [
    "df = df.with_columns(\n",
    "    pl.col('material').str.to_lowercase().cast(pl.Categorical)\n",
    ")\n",
    "df.head(1)"
   ]
  },
  {
   "cell_type": "markdown",
   "metadata": {},
   "source": [
    "### Fill null values in manufacturer column with unknown\n"
   ]
  },
  {
   "cell_type": "code",
   "execution_count": 57,
   "metadata": {},
   "outputs": [
    {
     "data": {
      "text/html": [
       "<div><style>\n",
       ".dataframe > thead > tr,\n",
       ".dataframe > tbody > tr {\n",
       "  text-align: right;\n",
       "  white-space: pre-wrap;\n",
       "}\n",
       "</style>\n",
       "<small>shape: (1, 15)</small><table border=\"1\" class=\"dataframe\"><thead><tr><th>name</th><th>location</th><th>status</th><th>material</th><th>manufacturer</th><th>length_in_m</th><th>height_in_m</th><th>speed_in_kmh</th><th>duration</th><th>capacity</th><th>g_force</th><th>opening_date</th><th>closing_year</th><th>latitude</th><th>longitude</th></tr><tr><td>str</td><td>str</td><td>cat</td><td>cat</td><td>str</td><td>str</td><td>str</td><td>str</td><td>str</td><td>str</td><td>f64</td><td>str</td><td>str</td><td>f64</td><td>f64</td></tr></thead><tbody><tr><td>&quot;Switchback Railway&quot;</td><td>&quot;Coney Island&quot;</td><td>&quot;closed&quot;</td><td>&quot;wood&quot;</td><td>&quot;LaMarcus Adna Thompson&quot;</td><td>&quot;600 ft (180 m)&quot;</td><td>&quot;50 ft (15 m)&quot;</td><td>&quot;9.7 km/h&quot;</td><td>&quot;1:00&quot;</td><td>&quot;1600 riders per hour&quot;</td><td>2.9</td><td>&quot;1884-06-16&quot;</td><td>null</td><td>40.574</td><td>-73.978</td></tr></tbody></table></div>"
      ],
      "text/plain": [
       "shape: (1, 15)\n",
       "┌────────────┬────────────┬────────┬──────────┬───┬────────────┬────────────┬──────────┬───────────┐\n",
       "│ name       ┆ location   ┆ status ┆ material ┆ … ┆ opening_da ┆ closing_ye ┆ latitude ┆ longitude │\n",
       "│ ---        ┆ ---        ┆ ---    ┆ ---      ┆   ┆ te         ┆ ar         ┆ ---      ┆ ---       │\n",
       "│ str        ┆ str        ┆ cat    ┆ cat      ┆   ┆ ---        ┆ ---        ┆ f64      ┆ f64       │\n",
       "│            ┆            ┆        ┆          ┆   ┆ str        ┆ str        ┆          ┆           │\n",
       "╞════════════╪════════════╪════════╪══════════╪═══╪════════════╪════════════╪══════════╪═══════════╡\n",
       "│ Switchback ┆ Coney      ┆ closed ┆ wood     ┆ … ┆ 1884-06-16 ┆ null       ┆ 40.574   ┆ -73.978   │\n",
       "│ Railway    ┆ Island     ┆        ┆          ┆   ┆            ┆            ┆          ┆           │\n",
       "└────────────┴────────────┴────────┴──────────┴───┴────────────┴────────────┴──────────┴───────────┘"
      ]
     },
     "execution_count": 57,
     "metadata": {},
     "output_type": "execute_result"
    }
   ],
   "source": [
    "df = df.with_columns(pl.col('manufacturer').fill_null('unknown'))\n",
    "df.head(1)"
   ]
  },
  {
   "cell_type": "markdown",
   "metadata": {},
   "source": [
    "### Extract meter in length & height columns\n"
   ]
  },
  {
   "cell_type": "code",
   "execution_count": 58,
   "metadata": {},
   "outputs": [
    {
     "data": {
      "text/html": [
       "<div><style>\n",
       ".dataframe > thead > tr,\n",
       ".dataframe > tbody > tr {\n",
       "  text-align: right;\n",
       "  white-space: pre-wrap;\n",
       "}\n",
       "</style>\n",
       "<small>shape: (1, 15)</small><table border=\"1\" class=\"dataframe\"><thead><tr><th>name</th><th>location</th><th>status</th><th>material</th><th>manufacturer</th><th>length_in_m</th><th>height_in_m</th><th>speed_in_kmh</th><th>duration</th><th>capacity</th><th>g_force</th><th>opening_date</th><th>closing_year</th><th>latitude</th><th>longitude</th></tr><tr><td>str</td><td>str</td><td>cat</td><td>cat</td><td>str</td><td>f64</td><td>f64</td><td>str</td><td>str</td><td>str</td><td>f64</td><td>str</td><td>str</td><td>f64</td><td>f64</td></tr></thead><tbody><tr><td>&quot;Switchback Railway&quot;</td><td>&quot;Coney Island&quot;</td><td>&quot;closed&quot;</td><td>&quot;wood&quot;</td><td>&quot;LaMarcus Adna Thompson&quot;</td><td>180.0</td><td>15.0</td><td>&quot;9.7 km/h&quot;</td><td>&quot;1:00&quot;</td><td>&quot;1600 riders per hour&quot;</td><td>2.9</td><td>&quot;1884-06-16&quot;</td><td>null</td><td>40.574</td><td>-73.978</td></tr></tbody></table></div>"
      ],
      "text/plain": [
       "shape: (1, 15)\n",
       "┌────────────┬────────────┬────────┬──────────┬───┬────────────┬────────────┬──────────┬───────────┐\n",
       "│ name       ┆ location   ┆ status ┆ material ┆ … ┆ opening_da ┆ closing_ye ┆ latitude ┆ longitude │\n",
       "│ ---        ┆ ---        ┆ ---    ┆ ---      ┆   ┆ te         ┆ ar         ┆ ---      ┆ ---       │\n",
       "│ str        ┆ str        ┆ cat    ┆ cat      ┆   ┆ ---        ┆ ---        ┆ f64      ┆ f64       │\n",
       "│            ┆            ┆        ┆          ┆   ┆ str        ┆ str        ┆          ┆           │\n",
       "╞════════════╪════════════╪════════╪══════════╪═══╪════════════╪════════════╪══════════╪═══════════╡\n",
       "│ Switchback ┆ Coney      ┆ closed ┆ wood     ┆ … ┆ 1884-06-16 ┆ null       ┆ 40.574   ┆ -73.978   │\n",
       "│ Railway    ┆ Island     ┆        ┆          ┆   ┆            ┆            ┆          ┆           │\n",
       "└────────────┴────────────┴────────┴──────────┴───┴────────────┴────────────┴──────────┴───────────┘"
      ]
     },
     "execution_count": 58,
     "metadata": {},
     "output_type": "execute_result"
    }
   ],
   "source": [
    "def extract_meter(value: str) -> float:\n",
    "    match = re.search(r\"\\(([\\d.,]+)\\s*m\\)\", value)\n",
    "\n",
    "    if match:\n",
    "        return float(match.group(1).replace(',', ''))\n",
    "    else:\n",
    "        return None\n",
    "\n",
    "\n",
    "df = df.with_columns(\n",
    "    pl.col(\"length_in_m\").map_elements(extract_meter, return_dtype=pl.Float64),\n",
    "    pl.col(\"height_in_m\").map_elements(extract_meter, return_dtype=pl.Float64)\n",
    ")\n",
    "df.head(1)"
   ]
  },
  {
   "cell_type": "markdown",
   "metadata": {},
   "source": [
    "### Extract km/h in speed column\n"
   ]
  },
  {
   "cell_type": "code",
   "execution_count": 59,
   "metadata": {},
   "outputs": [
    {
     "data": {
      "text/html": [
       "<div><style>\n",
       ".dataframe > thead > tr,\n",
       ".dataframe > tbody > tr {\n",
       "  text-align: right;\n",
       "  white-space: pre-wrap;\n",
       "}\n",
       "</style>\n",
       "<small>shape: (1, 15)</small><table border=\"1\" class=\"dataframe\"><thead><tr><th>name</th><th>location</th><th>status</th><th>material</th><th>manufacturer</th><th>length_in_m</th><th>height_in_m</th><th>speed_in_kmh</th><th>duration</th><th>capacity</th><th>g_force</th><th>opening_date</th><th>closing_year</th><th>latitude</th><th>longitude</th></tr><tr><td>str</td><td>str</td><td>cat</td><td>cat</td><td>str</td><td>f64</td><td>f64</td><td>f64</td><td>str</td><td>str</td><td>f64</td><td>str</td><td>str</td><td>f64</td><td>f64</td></tr></thead><tbody><tr><td>&quot;Switchback Railway&quot;</td><td>&quot;Coney Island&quot;</td><td>&quot;closed&quot;</td><td>&quot;wood&quot;</td><td>&quot;LaMarcus Adna Thompson&quot;</td><td>180.0</td><td>15.0</td><td>9.7</td><td>&quot;1:00&quot;</td><td>&quot;1600 riders per hour&quot;</td><td>2.9</td><td>&quot;1884-06-16&quot;</td><td>null</td><td>40.574</td><td>-73.978</td></tr></tbody></table></div>"
      ],
      "text/plain": [
       "shape: (1, 15)\n",
       "┌────────────┬────────────┬────────┬──────────┬───┬────────────┬────────────┬──────────┬───────────┐\n",
       "│ name       ┆ location   ┆ status ┆ material ┆ … ┆ opening_da ┆ closing_ye ┆ latitude ┆ longitude │\n",
       "│ ---        ┆ ---        ┆ ---    ┆ ---      ┆   ┆ te         ┆ ar         ┆ ---      ┆ ---       │\n",
       "│ str        ┆ str        ┆ cat    ┆ cat      ┆   ┆ ---        ┆ ---        ┆ f64      ┆ f64       │\n",
       "│            ┆            ┆        ┆          ┆   ┆ str        ┆ str        ┆          ┆           │\n",
       "╞════════════╪════════════╪════════╪══════════╪═══╪════════════╪════════════╪══════════╪═══════════╡\n",
       "│ Switchback ┆ Coney      ┆ closed ┆ wood     ┆ … ┆ 1884-06-16 ┆ null       ┆ 40.574   ┆ -73.978   │\n",
       "│ Railway    ┆ Island     ┆        ┆          ┆   ┆            ┆            ┆          ┆           │\n",
       "└────────────┴────────────┴────────┴──────────┴───┴────────────┴────────────┴──────────┴───────────┘"
      ]
     },
     "execution_count": 59,
     "metadata": {},
     "output_type": "execute_result"
    }
   ],
   "source": [
    "def extract_kmh(value: str) -> float:\n",
    "    MPH_TO_KMH = 1.60934\n",
    "\n",
    "    if \"mp\" in value:\n",
    "        # Convert mph to km/h\n",
    "        return float(re.search(r\"[\\d.]+\", value).group()) * MPH_TO_KMH\n",
    "    elif \"km\" in value:\n",
    "        return float(re.search(r\"[\\d.]+\", value).group())\n",
    "    else:\n",
    "        return None\n",
    "\n",
    "\n",
    "df = df.with_columns(\n",
    "    pl.col(\"speed_in_kmh\").map_elements(extract_kmh, return_dtype=pl.Float64)\n",
    ")\n",
    "df.head(1)"
   ]
  },
  {
   "cell_type": "markdown",
   "metadata": {},
   "source": [
    "### Convert duration_in_sec column values format to second\n"
   ]
  },
  {
   "cell_type": "code",
   "execution_count": 60,
   "metadata": {},
   "outputs": [
    {
     "data": {
      "text/html": [
       "<div><style>\n",
       ".dataframe > thead > tr,\n",
       ".dataframe > tbody > tr {\n",
       "  text-align: right;\n",
       "  white-space: pre-wrap;\n",
       "}\n",
       "</style>\n",
       "<small>shape: (1, 15)</small><table border=\"1\" class=\"dataframe\"><thead><tr><th>name</th><th>location</th><th>status</th><th>material</th><th>manufacturer</th><th>length_in_m</th><th>height_in_m</th><th>speed_in_kmh</th><th>duration</th><th>capacity</th><th>g_force</th><th>opening_date</th><th>closing_year</th><th>latitude</th><th>longitude</th></tr><tr><td>str</td><td>str</td><td>cat</td><td>cat</td><td>str</td><td>f64</td><td>f64</td><td>f64</td><td>duration[ms]</td><td>str</td><td>f64</td><td>str</td><td>str</td><td>f64</td><td>f64</td></tr></thead><tbody><tr><td>&quot;Switchback Railway&quot;</td><td>&quot;Coney Island&quot;</td><td>&quot;closed&quot;</td><td>&quot;wood&quot;</td><td>&quot;LaMarcus Adna Thompson&quot;</td><td>180.0</td><td>15.0</td><td>9.7</td><td>1m</td><td>&quot;1600 riders per hour&quot;</td><td>2.9</td><td>&quot;1884-06-16&quot;</td><td>null</td><td>40.574</td><td>-73.978</td></tr></tbody></table></div>"
      ],
      "text/plain": [
       "shape: (1, 15)\n",
       "┌────────────┬────────────┬────────┬──────────┬───┬────────────┬────────────┬──────────┬───────────┐\n",
       "│ name       ┆ location   ┆ status ┆ material ┆ … ┆ opening_da ┆ closing_ye ┆ latitude ┆ longitude │\n",
       "│ ---        ┆ ---        ┆ ---    ┆ ---      ┆   ┆ te         ┆ ar         ┆ ---      ┆ ---       │\n",
       "│ str        ┆ str        ┆ cat    ┆ cat      ┆   ┆ ---        ┆ ---        ┆ f64      ┆ f64       │\n",
       "│            ┆            ┆        ┆          ┆   ┆ str        ┆ str        ┆          ┆           │\n",
       "╞════════════╪════════════╪════════╪══════════╪═══╪════════════╪════════════╪══════════╪═══════════╡\n",
       "│ Switchback ┆ Coney      ┆ closed ┆ wood     ┆ … ┆ 1884-06-16 ┆ null       ┆ 40.574   ┆ -73.978   │\n",
       "│ Railway    ┆ Island     ┆        ┆          ┆   ┆            ┆            ┆          ┆           │\n",
       "└────────────┴────────────┴────────┴──────────┴───┴────────────┴────────────┴──────────┴───────────┘"
      ]
     },
     "execution_count": 60,
     "metadata": {},
     "output_type": "execute_result"
    }
   ],
   "source": [
    "def extract_second(value: str) -> int:\n",
    "    value = value.lower().strip()  # Normalize case and strip spaces\n",
    "\n",
    "    # Handle number:number format (e.g., 1:48)\n",
    "    match = re.match(r'^(?P<minutes>\\d+):(?P<seconds>\\d+)', value)\n",
    "    if match:\n",
    "        minutes = int(match.group('minutes'))\n",
    "        seconds = int(match.group('seconds'))\n",
    "        return minutes * 60 + seconds\n",
    "\n",
    "    # Handle patterns like \"1 minute 30 seconds\", \"1 min 30 sec\"\n",
    "    match = re.match(\n",
    "        r'(?P<minutes>\\d+)\\s*min(?:ute)?s?\\s*(?P<seconds>\\d+)\\s*sec(?:ond)?s?', value)\n",
    "    if match:\n",
    "        minutes = int(match.group('minutes'))\n",
    "        seconds = int(match.group('seconds'))\n",
    "        return minutes * 60 + seconds\n",
    "\n",
    "    # Handle patterns like \"1 minute\" or \"90 seconds\"\n",
    "    match = re.match(r'(?P<minutes>\\d+)\\s*min(?:ute)?s?', value)\n",
    "    if match:\n",
    "        return int(match.group('minutes')) * 60\n",
    "    match = re.match(r'(?P<seconds>\\d+)\\s*sec(?:ond)?s?', value)\n",
    "    if match:\n",
    "        return int(match.group('seconds'))\n",
    "\n",
    "    # Handle ranges like \"between 1 minute 20 seconds and 1 minute 30 seconds\"\n",
    "    match = re.match(r'between\\s*(?P<min_minutes>\\d+)\\s*min(?:ute)?s?\\s*(?P<min_seconds>\\d+)\\s*sec(?:ond)?s?\\s*and\\s*(?P<max_minutes>\\d+)\\s*min(?:ute)?s?\\s*(?P<max_seconds>\\d+)\\s*sec(?:ond)?s?', value)\n",
    "    if match:\n",
    "        min_minutes = int(match.group('min_minutes'))\n",
    "        min_seconds = int(match.group('min_seconds'))\n",
    "        max_minutes = int(match.group('max_minutes'))\n",
    "        max_seconds = int(match.group('max_seconds'))\n",
    "        min_total = min_minutes * 60 + min_seconds\n",
    "        max_total = max_minutes * 60 + max_seconds\n",
    "        return (min_total + max_total) // 2  # Average of the range\n",
    "\n",
    "    # Handle approximate values and extra characters (strip non-numeric characters)\n",
    "    value = re.sub(r'[^0-9:]', '', value)\n",
    "    if value.isdigit():\n",
    "        return int(value)\n",
    "\n",
    "    return None  # For unhandled cases\n",
    "\n",
    "\n",
    "df = df.with_columns(\n",
    "    (\n",
    "        pl.col('duration').map_elements(\n",
    "            extract_second, return_dtype=pl.Int64\n",
    "        ) * 1000\n",
    "    ).cast(pl.Duration('ms'))\n",
    ")\n",
    "df.head(1)"
   ]
  },
  {
   "cell_type": "markdown",
   "metadata": {},
   "source": [
    "### Extract number of riders in capacity column\n"
   ]
  },
  {
   "cell_type": "code",
   "execution_count": 61,
   "metadata": {},
   "outputs": [
    {
     "data": {
      "text/html": [
       "<div><style>\n",
       ".dataframe > thead > tr,\n",
       ".dataframe > tbody > tr {\n",
       "  text-align: right;\n",
       "  white-space: pre-wrap;\n",
       "}\n",
       "</style>\n",
       "<small>shape: (1, 15)</small><table border=\"1\" class=\"dataframe\"><thead><tr><th>name</th><th>location</th><th>status</th><th>material</th><th>manufacturer</th><th>length_in_m</th><th>height_in_m</th><th>speed_in_kmh</th><th>duration</th><th>capacity</th><th>g_force</th><th>opening_date</th><th>closing_year</th><th>latitude</th><th>longitude</th></tr><tr><td>str</td><td>str</td><td>cat</td><td>cat</td><td>str</td><td>f64</td><td>f64</td><td>f64</td><td>duration[ms]</td><td>i64</td><td>f64</td><td>str</td><td>str</td><td>f64</td><td>f64</td></tr></thead><tbody><tr><td>&quot;Switchback Railway&quot;</td><td>&quot;Coney Island&quot;</td><td>&quot;closed&quot;</td><td>&quot;wood&quot;</td><td>&quot;LaMarcus Adna Thompson&quot;</td><td>180.0</td><td>15.0</td><td>9.7</td><td>1m</td><td>1600</td><td>2.9</td><td>&quot;1884-06-16&quot;</td><td>null</td><td>40.574</td><td>-73.978</td></tr></tbody></table></div>"
      ],
      "text/plain": [
       "shape: (1, 15)\n",
       "┌────────────┬────────────┬────────┬──────────┬───┬────────────┬────────────┬──────────┬───────────┐\n",
       "│ name       ┆ location   ┆ status ┆ material ┆ … ┆ opening_da ┆ closing_ye ┆ latitude ┆ longitude │\n",
       "│ ---        ┆ ---        ┆ ---    ┆ ---      ┆   ┆ te         ┆ ar         ┆ ---      ┆ ---       │\n",
       "│ str        ┆ str        ┆ cat    ┆ cat      ┆   ┆ ---        ┆ ---        ┆ f64      ┆ f64       │\n",
       "│            ┆            ┆        ┆          ┆   ┆ str        ┆ str        ┆          ┆           │\n",
       "╞════════════╪════════════╪════════╪══════════╪═══╪════════════╪════════════╪══════════╪═══════════╡\n",
       "│ Switchback ┆ Coney      ┆ closed ┆ wood     ┆ … ┆ 1884-06-16 ┆ null       ┆ 40.574   ┆ -73.978   │\n",
       "│ Railway    ┆ Island     ┆        ┆          ┆   ┆            ┆            ┆          ┆           │\n",
       "└────────────┴────────────┴────────┴──────────┴───┴────────────┴────────────┴──────────┴───────────┘"
      ]
     },
     "execution_count": 61,
     "metadata": {},
     "output_type": "execute_result"
    }
   ],
   "source": [
    "def extract_capacity(value: str) -> int:\n",
    "    value = value.replace(',', '')\n",
    "\n",
    "    return int(re.search(r\"\\d+\", value).group())\n",
    "\n",
    "\n",
    "df = df.with_columns(\n",
    "    pl.col(\"capacity\").map_elements(extract_capacity, return_dtype=pl.Int64)\n",
    ")\n",
    "\n",
    "df.head(1)"
   ]
  },
  {
   "cell_type": "markdown",
   "metadata": {},
   "source": [
    "### Cast the type of opening_date column to pl.Date\n"
   ]
  },
  {
   "cell_type": "code",
   "execution_count": 62,
   "metadata": {},
   "outputs": [
    {
     "data": {
      "text/html": [
       "<div><style>\n",
       ".dataframe > thead > tr,\n",
       ".dataframe > tbody > tr {\n",
       "  text-align: right;\n",
       "  white-space: pre-wrap;\n",
       "}\n",
       "</style>\n",
       "<small>shape: (1, 15)</small><table border=\"1\" class=\"dataframe\"><thead><tr><th>name</th><th>location</th><th>status</th><th>material</th><th>manufacturer</th><th>length_in_m</th><th>height_in_m</th><th>speed_in_kmh</th><th>duration</th><th>capacity</th><th>g_force</th><th>opening_date</th><th>closing_year</th><th>latitude</th><th>longitude</th></tr><tr><td>str</td><td>str</td><td>cat</td><td>cat</td><td>str</td><td>f64</td><td>f64</td><td>f64</td><td>duration[ms]</td><td>i64</td><td>f64</td><td>date</td><td>str</td><td>f64</td><td>f64</td></tr></thead><tbody><tr><td>&quot;Switchback Railway&quot;</td><td>&quot;Coney Island&quot;</td><td>&quot;closed&quot;</td><td>&quot;wood&quot;</td><td>&quot;LaMarcus Adna Thompson&quot;</td><td>180.0</td><td>15.0</td><td>9.7</td><td>1m</td><td>1600</td><td>2.9</td><td>1884-06-16</td><td>null</td><td>40.574</td><td>-73.978</td></tr></tbody></table></div>"
      ],
      "text/plain": [
       "shape: (1, 15)\n",
       "┌────────────┬────────────┬────────┬──────────┬───┬────────────┬────────────┬──────────┬───────────┐\n",
       "│ name       ┆ location   ┆ status ┆ material ┆ … ┆ opening_da ┆ closing_ye ┆ latitude ┆ longitude │\n",
       "│ ---        ┆ ---        ┆ ---    ┆ ---      ┆   ┆ te         ┆ ar         ┆ ---      ┆ ---       │\n",
       "│ str        ┆ str        ┆ cat    ┆ cat      ┆   ┆ ---        ┆ ---        ┆ f64      ┆ f64       │\n",
       "│            ┆            ┆        ┆          ┆   ┆ date       ┆ str        ┆          ┆           │\n",
       "╞════════════╪════════════╪════════╪══════════╪═══╪════════════╪════════════╪══════════╪═══════════╡\n",
       "│ Switchback ┆ Coney      ┆ closed ┆ wood     ┆ … ┆ 1884-06-16 ┆ null       ┆ 40.574   ┆ -73.978   │\n",
       "│ Railway    ┆ Island     ┆        ┆          ┆   ┆            ┆            ┆          ┆           │\n",
       "└────────────┴────────────┴────────┴──────────┴───┴────────────┴────────────┴──────────┴───────────┘"
      ]
     },
     "execution_count": 62,
     "metadata": {},
     "output_type": "execute_result"
    }
   ],
   "source": [
    "df = df.with_columns(\n",
    "    pl.col(\"opening_date\").str.strptime(pl.Date, format=r\"%Y-%m-%d\")\n",
    ")\n",
    "\n",
    "df.head(1)"
   ]
  },
  {
   "cell_type": "markdown",
   "metadata": {},
   "source": [
    "### Extract the year & cast the type of closing_year column to pl.Int16\n"
   ]
  },
  {
   "cell_type": "code",
   "execution_count": 63,
   "metadata": {},
   "outputs": [
    {
     "data": {
      "text/html": [
       "<div><style>\n",
       ".dataframe > thead > tr,\n",
       ".dataframe > tbody > tr {\n",
       "  text-align: right;\n",
       "  white-space: pre-wrap;\n",
       "}\n",
       "</style>\n",
       "<small>shape: (1, 15)</small><table border=\"1\" class=\"dataframe\"><thead><tr><th>name</th><th>location</th><th>status</th><th>material</th><th>manufacturer</th><th>length_in_m</th><th>height_in_m</th><th>speed_in_kmh</th><th>duration</th><th>capacity</th><th>g_force</th><th>opening_date</th><th>closing_year</th><th>latitude</th><th>longitude</th></tr><tr><td>str</td><td>str</td><td>cat</td><td>cat</td><td>str</td><td>f64</td><td>f64</td><td>f64</td><td>duration[ms]</td><td>i64</td><td>f64</td><td>date</td><td>i16</td><td>f64</td><td>f64</td></tr></thead><tbody><tr><td>&quot;Switchback Railway&quot;</td><td>&quot;Coney Island&quot;</td><td>&quot;closed&quot;</td><td>&quot;wood&quot;</td><td>&quot;LaMarcus Adna Thompson&quot;</td><td>180.0</td><td>15.0</td><td>9.7</td><td>1m</td><td>1600</td><td>2.9</td><td>1884-06-16</td><td>null</td><td>40.574</td><td>-73.978</td></tr></tbody></table></div>"
      ],
      "text/plain": [
       "shape: (1, 15)\n",
       "┌────────────┬────────────┬────────┬──────────┬───┬────────────┬────────────┬──────────┬───────────┐\n",
       "│ name       ┆ location   ┆ status ┆ material ┆ … ┆ opening_da ┆ closing_ye ┆ latitude ┆ longitude │\n",
       "│ ---        ┆ ---        ┆ ---    ┆ ---      ┆   ┆ te         ┆ ar         ┆ ---      ┆ ---       │\n",
       "│ str        ┆ str        ┆ cat    ┆ cat      ┆   ┆ ---        ┆ ---        ┆ f64      ┆ f64       │\n",
       "│            ┆            ┆        ┆          ┆   ┆ date       ┆ i16        ┆          ┆           │\n",
       "╞════════════╪════════════╪════════╪══════════╪═══╪════════════╪════════════╪══════════╪═══════════╡\n",
       "│ Switchback ┆ Coney      ┆ closed ┆ wood     ┆ … ┆ 1884-06-16 ┆ null       ┆ 40.574   ┆ -73.978   │\n",
       "│ Railway    ┆ Island     ┆        ┆          ┆   ┆            ┆            ┆          ┆           │\n",
       "└────────────┴────────────┴────────┴──────────┴───┴────────────┴────────────┴──────────┴───────────┘"
      ]
     },
     "execution_count": 63,
     "metadata": {},
     "output_type": "execute_result"
    }
   ],
   "source": [
    "def extract_year(value: str) -> int:\n",
    "    # Regex to find a 4-digit year, a decade (e.g., 1990s), or a date with a year\n",
    "    match = re.search(\n",
    "        r'\\b(\\d{4})\\b|(\\d{4})s\\b|(\\d{1,2})\\s*[A-Za-z]+\\s*(\\d{4})', value)\n",
    "\n",
    "    if match:\n",
    "        # Return the year: if it's a decade, return the first four digits; otherwise, return the found year\n",
    "        return int(match.group(1)) if match.group(1) else int(match.group(2)) if match.group(2) else int(match.group(4))\n",
    "    else:\n",
    "        return None  # If no match is found\n",
    "\n",
    "\n",
    "df = df.with_columns(\n",
    "    pl.col(\"closing_year\").map_elements(extract_year, return_dtype=pl.Int16)\n",
    ")\n",
    "\n",
    "df.head(1)"
   ]
  },
  {
   "cell_type": "markdown",
   "metadata": {},
   "source": [
    "### Drop cuplicate rows based on the combination of name & location columns\n"
   ]
  },
  {
   "cell_type": "code",
   "execution_count": 64,
   "metadata": {},
   "outputs": [
    {
     "name": "stdout",
     "output_type": "stream",
     "text": [
      "Before = (1087, 15)\n",
      "After  = (990, 15)\n"
     ]
    }
   ],
   "source": [
    "print(f'Before = {df.shape}')\n",
    "\n",
    "df = df.unique(\n",
    "    subset=[\"name\", \"location\"],\n",
    "    maintain_order=True  # True = don't sort\n",
    ")\n",
    "\n",
    "print(f'After  = {df.shape}')"
   ]
  },
  {
   "cell_type": "markdown",
   "metadata": {},
   "source": [
    "### Display cleaned data\n"
   ]
  },
  {
   "cell_type": "code",
   "execution_count": 65,
   "metadata": {},
   "outputs": [
    {
     "data": {
      "text/html": [
       "<div><style>\n",
       ".dataframe > thead > tr,\n",
       ".dataframe > tbody > tr {\n",
       "  text-align: right;\n",
       "  white-space: pre-wrap;\n",
       "}\n",
       "</style>\n",
       "<small>shape: (990, 15)</small><table border=\"1\" class=\"dataframe\"><thead><tr><th>name</th><th>location</th><th>status</th><th>material</th><th>manufacturer</th><th>length_in_m</th><th>height_in_m</th><th>speed_in_kmh</th><th>duration</th><th>capacity</th><th>g_force</th><th>opening_date</th><th>closing_year</th><th>latitude</th><th>longitude</th></tr><tr><td>str</td><td>str</td><td>cat</td><td>cat</td><td>str</td><td>f64</td><td>f64</td><td>f64</td><td>duration[ms]</td><td>i64</td><td>f64</td><td>date</td><td>i16</td><td>f64</td><td>f64</td></tr></thead><tbody><tr><td>&quot;Switchback Railway&quot;</td><td>&quot;Coney Island&quot;</td><td>&quot;closed&quot;</td><td>&quot;wood&quot;</td><td>&quot;LaMarcus Adna Thompson&quot;</td><td>180.0</td><td>15.0</td><td>9.7</td><td>1m</td><td>1600</td><td>2.9</td><td>1884-06-16</td><td>null</td><td>40.574</td><td>-73.978</td></tr><tr><td>&quot;Flip Flap Railway&quot;</td><td>&quot;Sea Lion Park&quot;</td><td>&quot;closed&quot;</td><td>&quot;wood&quot;</td><td>&quot;Lina Beecher&quot;</td><td>null</td><td>null</td><td>null</td><td>null</td><td>null</td><td>12.0</td><td>1895-01-01</td><td>1902</td><td>40.578</td><td>-73.979</td></tr><tr><td>&quot;Switchback Railway (Euclid Bea…</td><td>&quot;Cleveland, Ohio, United States&quot;</td><td>&quot;closed&quot;</td><td>&quot;other&quot;</td><td>&quot;unknown&quot;</td><td>null</td><td>null</td><td>null</td><td>null</td><td>null</td><td>null</td><td>null</td><td>null</td><td>41.58</td><td>-81.57</td></tr><tr><td>&quot;Loop the Loop (Coney Island)&quot;</td><td>&quot;Other&quot;</td><td>&quot;closed&quot;</td><td>&quot;steel&quot;</td><td>&quot;Edwin Prescott&quot;</td><td>null</td><td>null</td><td>null</td><td>null</td><td>null</td><td>null</td><td>1901-01-01</td><td>1910</td><td>40.5745</td><td>-73.978</td></tr><tr><td>&quot;Loop the Loop (Young&#x27;s Pier)&quot;</td><td>&quot;Other&quot;</td><td>&quot;closed&quot;</td><td>&quot;steel&quot;</td><td>&quot;Edwin Prescott&quot;</td><td>null</td><td>null</td><td>null</td><td>null</td><td>null</td><td>null</td><td>1901-01-01</td><td>1912</td><td>39.3538</td><td>-74.4342</td></tr><tr><td>&hellip;</td><td>&hellip;</td><td>&hellip;</td><td>&hellip;</td><td>&hellip;</td><td>&hellip;</td><td>&hellip;</td><td>&hellip;</td><td>&hellip;</td><td>&hellip;</td><td>&hellip;</td><td>&hellip;</td><td>&hellip;</td><td>&hellip;</td><td>&hellip;</td></tr><tr><td>&quot;Ice Breaker (roller coaster)&quot;</td><td>&quot;SeaWorld Orlando&quot;</td><td>&quot;in_production&quot;</td><td>&quot;steel&quot;</td><td>&quot;Premier Rides&quot;</td><td>580.0</td><td>28.0</td><td>84.0</td><td>null</td><td>null</td><td>null</td><td>2022-02-01</td><td>null</td><td>28.4088</td><td>-81.4633</td></tr><tr><td>&quot;Leviathan (Sea World)&quot;</td><td>&quot;Sea World&quot;</td><td>&quot;in_production&quot;</td><td>&quot;wood&quot;</td><td>&quot;Martin &amp; Vleminckx&quot;</td><td>null</td><td>null</td><td>79.984198</td><td>null</td><td>720</td><td>null</td><td>2022-01-01</td><td>null</td><td>-27.9574</td><td>153.4263</td></tr><tr><td>&quot;Pantheon (roller coaster)&quot;</td><td>&quot;Busch Gardens Williamsburg&quot;</td><td>&quot;in_production&quot;</td><td>&quot;steel&quot;</td><td>&quot;Intamin&quot;</td><td>1014.0</td><td>54.0</td><td>117.0</td><td>null</td><td>null</td><td>null</td><td>2022-01-01</td><td>null</td><td>37.2339</td><td>-76.6426</td></tr><tr><td>&quot;Tumbili&quot;</td><td>&quot;Kings Dominion&quot;</td><td>&quot;in_production&quot;</td><td>&quot;steel&quot;</td><td>&quot;S&amp;S – Sansei Technologies&quot;</td><td>230.0</td><td>34.0</td><td>55.0</td><td>55s</td><td>null</td><td>null</td><td>null</td><td>null</td><td>null</td><td>null</td></tr><tr><td>&quot;Wonder Woman Flight of Courage&quot;</td><td>&quot;Six Flags Magic Mountain&quot;</td><td>&quot;in_production&quot;</td><td>&quot;steel&quot;</td><td>&quot;Rocky Mountain Construction&quot;</td><td>1000.0</td><td>40.0</td><td>93.0</td><td>null</td><td>null</td><td>null</td><td>2022-01-01</td><td>null</td><td>null</td><td>null</td></tr></tbody></table></div>"
      ],
      "text/plain": [
       "shape: (990, 15)\n",
       "┌────────────┬───────────┬───────────┬──────────┬───┬───────────┬───────────┬──────────┬───────────┐\n",
       "│ name       ┆ location  ┆ status    ┆ material ┆ … ┆ opening_d ┆ closing_y ┆ latitude ┆ longitude │\n",
       "│ ---        ┆ ---       ┆ ---       ┆ ---      ┆   ┆ ate       ┆ ear       ┆ ---      ┆ ---       │\n",
       "│ str        ┆ str       ┆ cat       ┆ cat      ┆   ┆ ---       ┆ ---       ┆ f64      ┆ f64       │\n",
       "│            ┆           ┆           ┆          ┆   ┆ date      ┆ i16       ┆          ┆           │\n",
       "╞════════════╪═══════════╪═══════════╪══════════╪═══╪═══════════╪═══════════╪══════════╪═══════════╡\n",
       "│ Switchback ┆ Coney     ┆ closed    ┆ wood     ┆ … ┆ 1884-06-1 ┆ null      ┆ 40.574   ┆ -73.978   │\n",
       "│ Railway    ┆ Island    ┆           ┆          ┆   ┆ 6         ┆           ┆          ┆           │\n",
       "│ Flip Flap  ┆ Sea Lion  ┆ closed    ┆ wood     ┆ … ┆ 1895-01-0 ┆ 1902      ┆ 40.578   ┆ -73.979   │\n",
       "│ Railway    ┆ Park      ┆           ┆          ┆   ┆ 1         ┆           ┆          ┆           │\n",
       "│ Switchback ┆ Cleveland ┆ closed    ┆ other    ┆ … ┆ null      ┆ null      ┆ 41.58    ┆ -81.57    │\n",
       "│ Railway    ┆ , Ohio,   ┆           ┆          ┆   ┆           ┆           ┆          ┆           │\n",
       "│ (Euclid    ┆ United    ┆           ┆          ┆   ┆           ┆           ┆          ┆           │\n",
       "│ Bea…       ┆ States    ┆           ┆          ┆   ┆           ┆           ┆          ┆           │\n",
       "│ Loop the   ┆ Other     ┆ closed    ┆ steel    ┆ … ┆ 1901-01-0 ┆ 1910      ┆ 40.5745  ┆ -73.978   │\n",
       "│ Loop       ┆           ┆           ┆          ┆   ┆ 1         ┆           ┆          ┆           │\n",
       "│ (Coney     ┆           ┆           ┆          ┆   ┆           ┆           ┆          ┆           │\n",
       "│ Island)    ┆           ┆           ┆          ┆   ┆           ┆           ┆          ┆           │\n",
       "│ Loop the   ┆ Other     ┆ closed    ┆ steel    ┆ … ┆ 1901-01-0 ┆ 1912      ┆ 39.3538  ┆ -74.4342  │\n",
       "│ Loop       ┆           ┆           ┆          ┆   ┆ 1         ┆           ┆          ┆           │\n",
       "│ (Young's   ┆           ┆           ┆          ┆   ┆           ┆           ┆          ┆           │\n",
       "│ Pier)      ┆           ┆           ┆          ┆   ┆           ┆           ┆          ┆           │\n",
       "│ …          ┆ …         ┆ …         ┆ …        ┆ … ┆ …         ┆ …         ┆ …        ┆ …         │\n",
       "│ Ice        ┆ SeaWorld  ┆ in_produc ┆ steel    ┆ … ┆ 2022-02-0 ┆ null      ┆ 28.4088  ┆ -81.4633  │\n",
       "│ Breaker    ┆ Orlando   ┆ tion      ┆          ┆   ┆ 1         ┆           ┆          ┆           │\n",
       "│ (roller    ┆           ┆           ┆          ┆   ┆           ┆           ┆          ┆           │\n",
       "│ coaster)   ┆           ┆           ┆          ┆   ┆           ┆           ┆          ┆           │\n",
       "│ Leviathan  ┆ Sea World ┆ in_produc ┆ wood     ┆ … ┆ 2022-01-0 ┆ null      ┆ -27.9574 ┆ 153.4263  │\n",
       "│ (Sea       ┆           ┆ tion      ┆          ┆   ┆ 1         ┆           ┆          ┆           │\n",
       "│ World)     ┆           ┆           ┆          ┆   ┆           ┆           ┆          ┆           │\n",
       "│ Pantheon   ┆ Busch     ┆ in_produc ┆ steel    ┆ … ┆ 2022-01-0 ┆ null      ┆ 37.2339  ┆ -76.6426  │\n",
       "│ (roller    ┆ Gardens   ┆ tion      ┆          ┆   ┆ 1         ┆           ┆          ┆           │\n",
       "│ coaster)   ┆ Williamsb ┆           ┆          ┆   ┆           ┆           ┆          ┆           │\n",
       "│            ┆ urg       ┆           ┆          ┆   ┆           ┆           ┆          ┆           │\n",
       "│ Tumbili    ┆ Kings     ┆ in_produc ┆ steel    ┆ … ┆ null      ┆ null      ┆ null     ┆ null      │\n",
       "│            ┆ Dominion  ┆ tion      ┆          ┆   ┆           ┆           ┆          ┆           │\n",
       "│ Wonder     ┆ Six Flags ┆ in_produc ┆ steel    ┆ … ┆ 2022-01-0 ┆ null      ┆ null     ┆ null      │\n",
       "│ Woman      ┆ Magic     ┆ tion      ┆          ┆   ┆ 1         ┆           ┆          ┆           │\n",
       "│ Flight of  ┆ Mountain  ┆           ┆          ┆   ┆           ┆           ┆          ┆           │\n",
       "│ Courage    ┆           ┆           ┆          ┆   ┆           ┆           ┆          ┆           │\n",
       "└────────────┴───────────┴───────────┴──────────┴───┴───────────┴───────────┴──────────┴───────────┘"
      ]
     },
     "execution_count": 65,
     "metadata": {},
     "output_type": "execute_result"
    }
   ],
   "source": [
    "df"
   ]
  },
  {
   "cell_type": "markdown",
   "metadata": {},
   "source": [
    "### Export cleaned data into a Feather file\n"
   ]
  },
  {
   "cell_type": "code",
   "execution_count": 66,
   "metadata": {},
   "outputs": [],
   "source": [
    "df.write_ipc('./data/coaster_db-cleaned.arrow')"
   ]
  }
 ],
 "metadata": {
  "kernelspec": {
   "display_name": ".venv",
   "language": "python",
   "name": "python3"
  },
  "language_info": {
   "codemirror_mode": {
    "name": "ipython",
    "version": 3
   },
   "file_extension": ".py",
   "mimetype": "text/x-python",
   "name": "python",
   "nbconvert_exporter": "python",
   "pygments_lexer": "ipython3",
   "version": "3.12.3"
  }
 },
 "nbformat": 4,
 "nbformat_minor": 2
}
