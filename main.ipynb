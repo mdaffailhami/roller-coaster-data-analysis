{
 "cells": [
  {
   "cell_type": "code",
   "execution_count": 109,
   "metadata": {},
   "outputs": [],
   "source": [
    "import re\n",
    "import polars as pl"
   ]
  },
  {
   "cell_type": "code",
   "execution_count": 110,
   "metadata": {},
   "outputs": [
    {
     "data": {
      "text/html": [
       "<div><style>\n",
       ".dataframe > thead > tr,\n",
       ".dataframe > tbody > tr {\n",
       "  text-align: right;\n",
       "  white-space: pre-wrap;\n",
       "}\n",
       "</style>\n",
       "<small>shape: (5, 56)</small><table border=\"1\" class=\"dataframe\"><thead><tr><th>coaster_name</th><th>Length</th><th>Speed</th><th>Location</th><th>Status</th><th>Opening date</th><th>Type</th><th>Manufacturer</th><th>Height restriction</th><th>Model</th><th>Height</th><th>Inversions</th><th>Lift/launch system</th><th>Cost</th><th>Trains</th><th>Park section</th><th>Duration</th><th>Capacity</th><th>G-force</th><th>Designer</th><th>Max vertical angle</th><th>Drop</th><th>Soft opening date</th><th>Fast Lane available</th><th>Replaced</th><th>Track layout</th><th>Fastrack available</th><th>Soft opening date.1</th><th>Closing date</th><th>Opened</th><th>Replaced by</th><th>Website</th><th>Flash Pass Available</th><th>Must transfer from wheelchair</th><th>Theme</th><th>Single rider line available</th><th>Restraint Style</th><th>Flash Pass available</th><th>Acceleration</th><th>Restraints</th><th>Name</th><th>year_introduced</th><th>latitude</th><th>longitude</th><th>Type_Main</th><th>opening_date_clean</th><th>speed1</th><th>speed2</th><th>speed1_value</th><th>speed1_unit</th><th>speed_mph</th><th>height_value</th><th>height_unit</th><th>height_ft</th><th>Inversions_clean</th><th>Gforce_clean</th></tr><tr><td>str</td><td>str</td><td>str</td><td>str</td><td>str</td><td>str</td><td>str</td><td>str</td><td>str</td><td>str</td><td>str</td><td>i64</td><td>str</td><td>str</td><td>str</td><td>str</td><td>str</td><td>str</td><td>str</td><td>str</td><td>str</td><td>str</td><td>str</td><td>str</td><td>str</td><td>str</td><td>str</td><td>str</td><td>str</td><td>str</td><td>str</td><td>str</td><td>str</td><td>str</td><td>str</td><td>str</td><td>str</td><td>str</td><td>str</td><td>str</td><td>str</td><td>i64</td><td>f64</td><td>f64</td><td>str</td><td>str</td><td>str</td><td>str</td><td>f64</td><td>str</td><td>f64</td><td>f64</td><td>str</td><td>f64</td><td>i64</td><td>f64</td></tr></thead><tbody><tr><td>&quot;Switchback Railway&quot;</td><td>&quot;600 ft (180 m)&quot;</td><td>&quot;6 mph (9.7 km/h)&quot;</td><td>&quot;Coney Island&quot;</td><td>&quot;Removed&quot;</td><td>&quot;June 16, 1884&quot;</td><td>&quot;Wood&quot;</td><td>&quot;LaMarcus Adna Thompson&quot;</td><td>null</td><td>&quot;Lift Packed&quot;</td><td>&quot;50 ft (15 m)&quot;</td><td>null</td><td>&quot;gravity&quot;</td><td>null</td><td>null</td><td>&quot;Coney Island Cyclone Site&quot;</td><td>&quot;1:00&quot;</td><td>&quot;1600 riders per hour&quot;</td><td>&quot;2.9&quot;</td><td>&quot;LaMarcus Adna Thompson&quot;</td><td>&quot;30°&quot;</td><td>&quot;43 ft (13 m)&quot;</td><td>null</td><td>null</td><td>null</td><td>&quot;Gravity pulled coaster&quot;</td><td>null</td><td>null</td><td>null</td><td>null</td><td>null</td><td>null</td><td>null</td><td>null</td><td>null</td><td>null</td><td>null</td><td>null</td><td>null</td><td>null</td><td>null</td><td>1884</td><td>40.574</td><td>-73.978</td><td>&quot;Wood&quot;</td><td>&quot;1884-06-16&quot;</td><td>&quot;6 mph &quot;</td><td>&quot;9.7 km/h&quot;</td><td>6.0</td><td>&quot;mph&quot;</td><td>6.0</td><td>50.0</td><td>&quot;ft&quot;</td><td>null</td><td>0</td><td>2.9</td></tr><tr><td>&quot;Flip Flap Railway&quot;</td><td>null</td><td>null</td><td>&quot;Sea Lion Park&quot;</td><td>&quot;Removed&quot;</td><td>&quot;1895&quot;</td><td>&quot;Wood&quot;</td><td>&quot;Lina Beecher&quot;</td><td>null</td><td>null</td><td>null</td><td>1</td><td>null</td><td>null</td><td>&quot;a single car. Riders are arran…</td><td>null</td><td>null</td><td>null</td><td>&quot;12&quot;</td><td>&quot;Lina Beecher&quot;</td><td>null</td><td>null</td><td>null</td><td>null</td><td>null</td><td>null</td><td>null</td><td>null</td><td>&quot;1902&quot;</td><td>null</td><td>null</td><td>null</td><td>null</td><td>null</td><td>null</td><td>null</td><td>null</td><td>null</td><td>null</td><td>null</td><td>null</td><td>1895</td><td>40.578</td><td>-73.979</td><td>&quot;Wood&quot;</td><td>&quot;1895-01-01&quot;</td><td>null</td><td>null</td><td>null</td><td>null</td><td>null</td><td>null</td><td>null</td><td>null</td><td>1</td><td>12.0</td></tr><tr><td>&quot;Switchback Railway (Euclid Bea…</td><td>null</td><td>null</td><td>&quot;Cleveland, Ohio, United States&quot;</td><td>&quot;Closed&quot;</td><td>null</td><td>&quot;Other&quot;</td><td>null</td><td>null</td><td>null</td><td>null</td><td>null</td><td>null</td><td>null</td><td>null</td><td>null</td><td>null</td><td>null</td><td>null</td><td>null</td><td>null</td><td>null</td><td>null</td><td>null</td><td>null</td><td>null</td><td>null</td><td>null</td><td>null</td><td>&quot;1895&quot;</td><td>null</td><td>null</td><td>null</td><td>null</td><td>null</td><td>null</td><td>null</td><td>null</td><td>null</td><td>null</td><td>null</td><td>1896</td><td>41.58</td><td>-81.57</td><td>&quot;Other&quot;</td><td>null</td><td>null</td><td>null</td><td>null</td><td>null</td><td>null</td><td>null</td><td>null</td><td>null</td><td>0</td><td>null</td></tr><tr><td>&quot;Loop the Loop (Coney Island)&quot;</td><td>null</td><td>null</td><td>&quot;Other&quot;</td><td>&quot;Removed&quot;</td><td>&quot;1901&quot;</td><td>&quot;Steel&quot;</td><td>&quot;Edwin Prescott&quot;</td><td>null</td><td>null</td><td>null</td><td>1</td><td>null</td><td>null</td><td>&quot;a single car. Riders are arran…</td><td>null</td><td>null</td><td>null</td><td>null</td><td>&quot;Edward A. Green&quot;</td><td>null</td><td>null</td><td>null</td><td>null</td><td>&quot;Switchback Railway&quot;</td><td>null</td><td>null</td><td>null</td><td>&quot;1910&quot;</td><td>null</td><td>&quot;Giant Racer&quot;</td><td>null</td><td>null</td><td>null</td><td>null</td><td>null</td><td>null</td><td>null</td><td>null</td><td>null</td><td>null</td><td>1901</td><td>40.5745</td><td>-73.978</td><td>&quot;Steel&quot;</td><td>&quot;1901-01-01&quot;</td><td>null</td><td>null</td><td>null</td><td>null</td><td>null</td><td>null</td><td>null</td><td>null</td><td>1</td><td>null</td></tr><tr><td>&quot;Loop the Loop (Young&#x27;s Pier)&quot;</td><td>null</td><td>null</td><td>&quot;Other&quot;</td><td>&quot;Removed&quot;</td><td>&quot;1901&quot;</td><td>&quot;Steel&quot;</td><td>&quot;Edwin Prescott&quot;</td><td>null</td><td>null</td><td>null</td><td>1</td><td>null</td><td>null</td><td>null</td><td>null</td><td>null</td><td>null</td><td>null</td><td>&quot;Edward A. Green&quot;</td><td>null</td><td>null</td><td>null</td><td>null</td><td>null</td><td>null</td><td>null</td><td>null</td><td>&quot;1912&quot;</td><td>null</td><td>null</td><td>null</td><td>null</td><td>null</td><td>null</td><td>null</td><td>null</td><td>null</td><td>null</td><td>null</td><td>null</td><td>1901</td><td>39.3538</td><td>-74.4342</td><td>&quot;Steel&quot;</td><td>&quot;1901-01-01&quot;</td><td>null</td><td>null</td><td>null</td><td>null</td><td>null</td><td>null</td><td>null</td><td>null</td><td>1</td><td>null</td></tr></tbody></table></div>"
      ],
      "text/plain": [
       "shape: (5, 56)\n",
       "┌────────────┬────────────┬───────┬────────────┬───┬───────────┬───────────┬───────────┬───────────┐\n",
       "│ coaster_na ┆ Length     ┆ Speed ┆ Location   ┆ … ┆ height_un ┆ height_ft ┆ Inversion ┆ Gforce_cl │\n",
       "│ me         ┆ ---        ┆ ---   ┆ ---        ┆   ┆ it        ┆ ---       ┆ s_clean   ┆ ean       │\n",
       "│ ---        ┆ str        ┆ str   ┆ str        ┆   ┆ ---       ┆ f64       ┆ ---       ┆ ---       │\n",
       "│ str        ┆            ┆       ┆            ┆   ┆ str       ┆           ┆ i64       ┆ f64       │\n",
       "╞════════════╪════════════╪═══════╪════════════╪═══╪═══════════╪═══════════╪═══════════╪═══════════╡\n",
       "│ Switchback ┆ 600 ft     ┆ 6 mph ┆ Coney      ┆ … ┆ ft        ┆ null      ┆ 0         ┆ 2.9       │\n",
       "│ Railway    ┆ (180 m)    ┆ (9.7  ┆ Island     ┆   ┆           ┆           ┆           ┆           │\n",
       "│            ┆            ┆ km/h) ┆            ┆   ┆           ┆           ┆           ┆           │\n",
       "│ Flip Flap  ┆ null       ┆ null  ┆ Sea Lion   ┆ … ┆ null      ┆ null      ┆ 1         ┆ 12.0      │\n",
       "│ Railway    ┆            ┆       ┆ Park       ┆   ┆           ┆           ┆           ┆           │\n",
       "│ Switchback ┆ null       ┆ null  ┆ Cleveland, ┆ … ┆ null      ┆ null      ┆ 0         ┆ null      │\n",
       "│ Railway    ┆            ┆       ┆ Ohio,      ┆   ┆           ┆           ┆           ┆           │\n",
       "│ (Euclid    ┆            ┆       ┆ United     ┆   ┆           ┆           ┆           ┆           │\n",
       "│ Bea…       ┆            ┆       ┆ States     ┆   ┆           ┆           ┆           ┆           │\n",
       "│ Loop the   ┆ null       ┆ null  ┆ Other      ┆ … ┆ null      ┆ null      ┆ 1         ┆ null      │\n",
       "│ Loop       ┆            ┆       ┆            ┆   ┆           ┆           ┆           ┆           │\n",
       "│ (Coney     ┆            ┆       ┆            ┆   ┆           ┆           ┆           ┆           │\n",
       "│ Island)    ┆            ┆       ┆            ┆   ┆           ┆           ┆           ┆           │\n",
       "│ Loop the   ┆ null       ┆ null  ┆ Other      ┆ … ┆ null      ┆ null      ┆ 1         ┆ null      │\n",
       "│ Loop       ┆            ┆       ┆            ┆   ┆           ┆           ┆           ┆           │\n",
       "│ (Young's   ┆            ┆       ┆            ┆   ┆           ┆           ┆           ┆           │\n",
       "│ Pier)      ┆            ┆       ┆            ┆   ┆           ┆           ┆           ┆           │\n",
       "└────────────┴────────────┴───────┴────────────┴───┴───────────┴───────────┴───────────┴───────────┘"
      ]
     },
     "execution_count": 110,
     "metadata": {},
     "output_type": "execute_result"
    }
   ],
   "source": [
    "df = pl.read_csv(r'./data/coaster_db.csv')\n",
    "df.head()"
   ]
  },
  {
   "cell_type": "markdown",
   "metadata": {},
   "source": [
    "### Filter columns\n"
   ]
  },
  {
   "cell_type": "code",
   "execution_count": 111,
   "metadata": {},
   "outputs": [
    {
     "data": {
      "text/html": [
       "<div><style>\n",
       ".dataframe > thead > tr,\n",
       ".dataframe > tbody > tr {\n",
       "  text-align: right;\n",
       "  white-space: pre-wrap;\n",
       "}\n",
       "</style>\n",
       "<small>shape: (1, 15)</small><table border=\"1\" class=\"dataframe\"><thead><tr><th>coaster_name</th><th>Location</th><th>Status</th><th>Type_Main</th><th>Manufacturer</th><th>Length</th><th>Height</th><th>speed2</th><th>Duration</th><th>Capacity</th><th>Gforce_clean</th><th>opening_date_clean</th><th>Closing date</th><th>latitude</th><th>longitude</th></tr><tr><td>str</td><td>str</td><td>str</td><td>str</td><td>str</td><td>str</td><td>str</td><td>str</td><td>str</td><td>str</td><td>f64</td><td>str</td><td>str</td><td>f64</td><td>f64</td></tr></thead><tbody><tr><td>&quot;Switchback Railway&quot;</td><td>&quot;Coney Island&quot;</td><td>&quot;Removed&quot;</td><td>&quot;Wood&quot;</td><td>&quot;LaMarcus Adna Thompson&quot;</td><td>&quot;600 ft (180 m)&quot;</td><td>&quot;50 ft (15 m)&quot;</td><td>&quot;9.7 km/h&quot;</td><td>&quot;1:00&quot;</td><td>&quot;1600 riders per hour&quot;</td><td>2.9</td><td>&quot;1884-06-16&quot;</td><td>null</td><td>40.574</td><td>-73.978</td></tr></tbody></table></div>"
      ],
      "text/plain": [
       "shape: (1, 15)\n",
       "┌────────────┬────────────┬─────────┬───────────┬───┬───────────┬───────────┬──────────┬───────────┐\n",
       "│ coaster_na ┆ Location   ┆ Status  ┆ Type_Main ┆ … ┆ opening_d ┆ Closing   ┆ latitude ┆ longitude │\n",
       "│ me         ┆ ---        ┆ ---     ┆ ---       ┆   ┆ ate_clean ┆ date      ┆ ---      ┆ ---       │\n",
       "│ ---        ┆ str        ┆ str     ┆ str       ┆   ┆ ---       ┆ ---       ┆ f64      ┆ f64       │\n",
       "│ str        ┆            ┆         ┆           ┆   ┆ str       ┆ str       ┆          ┆           │\n",
       "╞════════════╪════════════╪═════════╪═══════════╪═══╪═══════════╪═══════════╪══════════╪═══════════╡\n",
       "│ Switchback ┆ Coney      ┆ Removed ┆ Wood      ┆ … ┆ 1884-06-1 ┆ null      ┆ 40.574   ┆ -73.978   │\n",
       "│ Railway    ┆ Island     ┆         ┆           ┆   ┆ 6         ┆           ┆          ┆           │\n",
       "└────────────┴────────────┴─────────┴───────────┴───┴───────────┴───────────┴──────────┴───────────┘"
      ]
     },
     "execution_count": 111,
     "metadata": {},
     "output_type": "execute_result"
    }
   ],
   "source": [
    "df = df[[\n",
    "    'coaster_name', 'Location', 'Status', 'Type_Main', 'Manufacturer',\n",
    "    'Length', 'Height', 'speed2', 'Duration', 'Capacity', 'Gforce_clean',\n",
    "    'opening_date_clean', 'Closing date', 'latitude', 'longitude'\n",
    "]]\n",
    "df.head(1)"
   ]
  },
  {
   "cell_type": "markdown",
   "metadata": {},
   "source": [
    "### Rename columns\n"
   ]
  },
  {
   "cell_type": "code",
   "execution_count": 112,
   "metadata": {},
   "outputs": [
    {
     "data": {
      "text/html": [
       "<div><style>\n",
       ".dataframe > thead > tr,\n",
       ".dataframe > tbody > tr {\n",
       "  text-align: right;\n",
       "  white-space: pre-wrap;\n",
       "}\n",
       "</style>\n",
       "<small>shape: (1_087, 15)</small><table border=\"1\" class=\"dataframe\"><thead><tr><th>name</th><th>location</th><th>status</th><th>type_main</th><th>manufacturer</th><th>length_in_m</th><th>height_in_m</th><th>speed_in_kmh</th><th>duration_in_sec</th><th>capacity</th><th>g_force</th><th>opening_date</th><th>closing_year</th><th>latitude</th><th>longitude</th></tr><tr><td>str</td><td>str</td><td>str</td><td>str</td><td>str</td><td>str</td><td>str</td><td>str</td><td>str</td><td>str</td><td>f64</td><td>str</td><td>str</td><td>f64</td><td>f64</td></tr></thead><tbody><tr><td>&quot;Switchback Railway&quot;</td><td>&quot;Coney Island&quot;</td><td>&quot;Removed&quot;</td><td>&quot;Wood&quot;</td><td>&quot;LaMarcus Adna Thompson&quot;</td><td>&quot;600 ft (180 m)&quot;</td><td>&quot;50 ft (15 m)&quot;</td><td>&quot;9.7 km/h&quot;</td><td>&quot;1:00&quot;</td><td>&quot;1600 riders per hour&quot;</td><td>2.9</td><td>&quot;1884-06-16&quot;</td><td>null</td><td>40.574</td><td>-73.978</td></tr><tr><td>&quot;Flip Flap Railway&quot;</td><td>&quot;Sea Lion Park&quot;</td><td>&quot;Removed&quot;</td><td>&quot;Wood&quot;</td><td>&quot;Lina Beecher&quot;</td><td>null</td><td>null</td><td>null</td><td>null</td><td>null</td><td>12.0</td><td>&quot;1895-01-01&quot;</td><td>&quot;1902&quot;</td><td>40.578</td><td>-73.979</td></tr><tr><td>&quot;Switchback Railway (Euclid Bea…</td><td>&quot;Cleveland, Ohio, United States&quot;</td><td>&quot;Closed&quot;</td><td>&quot;Other&quot;</td><td>null</td><td>null</td><td>null</td><td>null</td><td>null</td><td>null</td><td>null</td><td>null</td><td>null</td><td>41.58</td><td>-81.57</td></tr><tr><td>&quot;Loop the Loop (Coney Island)&quot;</td><td>&quot;Other&quot;</td><td>&quot;Removed&quot;</td><td>&quot;Steel&quot;</td><td>&quot;Edwin Prescott&quot;</td><td>null</td><td>null</td><td>null</td><td>null</td><td>null</td><td>null</td><td>&quot;1901-01-01&quot;</td><td>&quot;1910&quot;</td><td>40.5745</td><td>-73.978</td></tr><tr><td>&quot;Loop the Loop (Young&#x27;s Pier)&quot;</td><td>&quot;Other&quot;</td><td>&quot;Removed&quot;</td><td>&quot;Steel&quot;</td><td>&quot;Edwin Prescott&quot;</td><td>null</td><td>null</td><td>null</td><td>null</td><td>null</td><td>null</td><td>&quot;1901-01-01&quot;</td><td>&quot;1912&quot;</td><td>39.3538</td><td>-74.4342</td></tr><tr><td>&hellip;</td><td>&hellip;</td><td>&hellip;</td><td>&hellip;</td><td>&hellip;</td><td>&hellip;</td><td>&hellip;</td><td>&hellip;</td><td>&hellip;</td><td>&hellip;</td><td>&hellip;</td><td>&hellip;</td><td>&hellip;</td><td>&hellip;</td><td>&hellip;</td></tr><tr><td>&quot;American Dreier Looping&quot;</td><td>&quot;Other&quot;</td><td>null</td><td>&quot;Steel&quot;</td><td>&quot;Anton Schwarzkopf&quot;</td><td>&quot;3,444 ft (1,050 m)&quot;</td><td>&quot;111 ft (34 m)&quot;</td><td>&quot;85 km/h&quot;</td><td>null</td><td>&quot;1,500 riders per hour&quot;</td><td>4.7</td><td>null</td><td>null</td><td>null</td><td>null</td></tr><tr><td>&quot;Pantheon (roller coaster)&quot;</td><td>&quot;Busch Gardens Williamsburg&quot;</td><td>&quot;Under construction&quot;</td><td>&quot;Steel&quot;</td><td>&quot;Intamin&quot;</td><td>&quot;3,328 ft (1,014 m)&quot;</td><td>&quot;178 ft (54 m)&quot;</td><td>&quot;117 km/h&quot;</td><td>null</td><td>null</td><td>null</td><td>&quot;2022-01-01&quot;</td><td>null</td><td>37.2339</td><td>-76.6426</td></tr><tr><td>&quot;Tron Lightcycle Power Run&quot;</td><td>&quot;Other&quot;</td><td>null</td><td>&quot;Steel&quot;</td><td>&quot;Vekoma&quot;</td><td>&quot;3,169.3 ft (966.0 m)&quot;</td><td>&quot;78.1 ft (23.8 m)&quot;</td><td>&quot;95.4 km/h&quot;</td><td>&quot;~2:00&quot;</td><td>&quot;1,680 riders per hour&quot;</td><td>4.0</td><td>&quot;2016-06-16&quot;</td><td>null</td><td>null</td><td>null</td></tr><tr><td>&quot;Tumbili&quot;</td><td>&quot;Kings Dominion&quot;</td><td>&quot;Under construction&quot;</td><td>&quot;Steel&quot;</td><td>&quot;S&amp;S – Sansei Technologies&quot;</td><td>&quot;770 ft (230 m)&quot;</td><td>&quot;112 ft (34 m)&quot;</td><td>&quot;55 km/h&quot;</td><td>&quot;0:55&quot;</td><td>null</td><td>null</td><td>null</td><td>null</td><td>null</td><td>null</td></tr><tr><td>&quot;Wonder Woman Flight of Courage&quot;</td><td>&quot;Six Flags Magic Mountain&quot;</td><td>&quot;Under construction&quot;</td><td>&quot;Steel&quot;</td><td>&quot;Rocky Mountain Construction&quot;</td><td>&quot;3,300 ft (1,000 m)&quot;</td><td>&quot;131 ft (40 m)&quot;</td><td>&quot;93 km/h&quot;</td><td>null</td><td>null</td><td>null</td><td>&quot;2022-01-01&quot;</td><td>null</td><td>null</td><td>null</td></tr></tbody></table></div>"
      ],
      "text/plain": [
       "shape: (1_087, 15)\n",
       "┌───────────┬───────────┬───────────┬───────────┬───┬───────────┬───────────┬──────────┬───────────┐\n",
       "│ name      ┆ location  ┆ status    ┆ type_main ┆ … ┆ opening_d ┆ closing_y ┆ latitude ┆ longitude │\n",
       "│ ---       ┆ ---       ┆ ---       ┆ ---       ┆   ┆ ate       ┆ ear       ┆ ---      ┆ ---       │\n",
       "│ str       ┆ str       ┆ str       ┆ str       ┆   ┆ ---       ┆ ---       ┆ f64      ┆ f64       │\n",
       "│           ┆           ┆           ┆           ┆   ┆ str       ┆ str       ┆          ┆           │\n",
       "╞═══════════╪═══════════╪═══════════╪═══════════╪═══╪═══════════╪═══════════╪══════════╪═══════════╡\n",
       "│ Switchbac ┆ Coney     ┆ Removed   ┆ Wood      ┆ … ┆ 1884-06-1 ┆ null      ┆ 40.574   ┆ -73.978   │\n",
       "│ k Railway ┆ Island    ┆           ┆           ┆   ┆ 6         ┆           ┆          ┆           │\n",
       "│ Flip Flap ┆ Sea Lion  ┆ Removed   ┆ Wood      ┆ … ┆ 1895-01-0 ┆ 1902      ┆ 40.578   ┆ -73.979   │\n",
       "│ Railway   ┆ Park      ┆           ┆           ┆   ┆ 1         ┆           ┆          ┆           │\n",
       "│ Switchbac ┆ Cleveland ┆ Closed    ┆ Other     ┆ … ┆ null      ┆ null      ┆ 41.58    ┆ -81.57    │\n",
       "│ k Railway ┆ , Ohio,   ┆           ┆           ┆   ┆           ┆           ┆          ┆           │\n",
       "│ (Euclid   ┆ United    ┆           ┆           ┆   ┆           ┆           ┆          ┆           │\n",
       "│ Bea…      ┆ States    ┆           ┆           ┆   ┆           ┆           ┆          ┆           │\n",
       "│ Loop the  ┆ Other     ┆ Removed   ┆ Steel     ┆ … ┆ 1901-01-0 ┆ 1910      ┆ 40.5745  ┆ -73.978   │\n",
       "│ Loop      ┆           ┆           ┆           ┆   ┆ 1         ┆           ┆          ┆           │\n",
       "│ (Coney    ┆           ┆           ┆           ┆   ┆           ┆           ┆          ┆           │\n",
       "│ Island)   ┆           ┆           ┆           ┆   ┆           ┆           ┆          ┆           │\n",
       "│ Loop the  ┆ Other     ┆ Removed   ┆ Steel     ┆ … ┆ 1901-01-0 ┆ 1912      ┆ 39.3538  ┆ -74.4342  │\n",
       "│ Loop      ┆           ┆           ┆           ┆   ┆ 1         ┆           ┆          ┆           │\n",
       "│ (Young's  ┆           ┆           ┆           ┆   ┆           ┆           ┆          ┆           │\n",
       "│ Pier)     ┆           ┆           ┆           ┆   ┆           ┆           ┆          ┆           │\n",
       "│ …         ┆ …         ┆ …         ┆ …         ┆ … ┆ …         ┆ …         ┆ …        ┆ …         │\n",
       "│ American  ┆ Other     ┆ null      ┆ Steel     ┆ … ┆ null      ┆ null      ┆ null     ┆ null      │\n",
       "│ Dreier    ┆           ┆           ┆           ┆   ┆           ┆           ┆          ┆           │\n",
       "│ Looping   ┆           ┆           ┆           ┆   ┆           ┆           ┆          ┆           │\n",
       "│ Pantheon  ┆ Busch     ┆ Under con ┆ Steel     ┆ … ┆ 2022-01-0 ┆ null      ┆ 37.2339  ┆ -76.6426  │\n",
       "│ (roller   ┆ Gardens   ┆ struction ┆           ┆   ┆ 1         ┆           ┆          ┆           │\n",
       "│ coaster)  ┆ Williamsb ┆           ┆           ┆   ┆           ┆           ┆          ┆           │\n",
       "│           ┆ urg       ┆           ┆           ┆   ┆           ┆           ┆          ┆           │\n",
       "│ Tron Ligh ┆ Other     ┆ null      ┆ Steel     ┆ … ┆ 2016-06-1 ┆ null      ┆ null     ┆ null      │\n",
       "│ tcycle    ┆           ┆           ┆           ┆   ┆ 6         ┆           ┆          ┆           │\n",
       "│ Power Run ┆           ┆           ┆           ┆   ┆           ┆           ┆          ┆           │\n",
       "│ Tumbili   ┆ Kings     ┆ Under con ┆ Steel     ┆ … ┆ null      ┆ null      ┆ null     ┆ null      │\n",
       "│           ┆ Dominion  ┆ struction ┆           ┆   ┆           ┆           ┆          ┆           │\n",
       "│ Wonder    ┆ Six Flags ┆ Under con ┆ Steel     ┆ … ┆ 2022-01-0 ┆ null      ┆ null     ┆ null      │\n",
       "│ Woman     ┆ Magic     ┆ struction ┆           ┆   ┆ 1         ┆           ┆          ┆           │\n",
       "│ Flight of ┆ Mountain  ┆           ┆           ┆   ┆           ┆           ┆          ┆           │\n",
       "│ Courage   ┆           ┆           ┆           ┆   ┆           ┆           ┆          ┆           │\n",
       "└───────────┴───────────┴───────────┴───────────┴───┴───────────┴───────────┴──────────┴───────────┘"
      ]
     },
     "execution_count": 112,
     "metadata": {},
     "output_type": "execute_result"
    }
   ],
   "source": [
    "df = df.rename(lambda col: col.lower().replace(' ', '_'))\n",
    "df = df.rename({\n",
    "    'coaster_name': 'name',\n",
    "    'opening_date_clean': 'opening_date',\n",
    "    'closing_date': 'closing_year',\n",
    "    'speed2': 'speed_in_kmh',\n",
    "    'duration': 'duration_in_sec',\n",
    "    'gforce_clean': 'g_force',\n",
    "    'length': 'length_in_m',\n",
    "    'height': 'height_in_m'\n",
    "})\n",
    "df"
   ]
  },
  {
   "cell_type": "markdown",
   "metadata": {},
   "source": [
    "### Change status column's values\n"
   ]
  },
  {
   "cell_type": "code",
   "execution_count": 113,
   "metadata": {},
   "outputs": [
    {
     "name": "stdout",
     "output_type": "stream",
     "text": [
      "Before:\n"
     ]
    },
    {
     "data": {
      "text/plain": [
       "['SBNO (Standing But Not Operating)',\n",
       " 'SBNO December 2019',\n",
       " 'Removed',\n",
       " 'closed for maintenance as of july 30 no reopening date known',\n",
       " 'Temporarily Closed',\n",
       " 'Chapter 7 bankruptcy; rides dismantled and sold; property sold',\n",
       " 'Temporarily closed',\n",
       " 'Under Maintenance',\n",
       " 'Closed in 2021',\n",
       " 'Closed',\n",
       " 'Under construction',\n",
       " 'In Production',\n",
       " 'Not Currently Operating',\n",
       " 'Operating',\n",
       " None,\n",
       " 'Discontinued']"
      ]
     },
     "metadata": {},
     "output_type": "display_data"
    },
    {
     "name": "stdout",
     "output_type": "stream",
     "text": [
      "After:\n"
     ]
    },
    {
     "data": {
      "text/plain": [
       "['unknown',\n",
       " 'under_maintenance',\n",
       " 'temporary_closed',\n",
       " 'closed',\n",
       " 'operating',\n",
       " 'sbno',\n",
       " 'in_production']"
      ]
     },
     "metadata": {},
     "output_type": "display_data"
    }
   ],
   "source": [
    "def change_status(status: str) -> str:\n",
    "    temporary_closed = (\n",
    "        'Temporarily closed', 'Temporarily Closed',\n",
    "    )\n",
    "\n",
    "    closed = (\n",
    "        'Closed', 'Closed in 2021', 'Not Currently Operating',\n",
    "        'Discontinued', 'Removed',\n",
    "        'Chapter 7 bankruptcy; rides dismantled and sold; property sold'\n",
    "    )\n",
    "\n",
    "    sbno = (\n",
    "        'SBNO (Standing But Not Operating)', 'SBNO December 2019'\n",
    "    )\n",
    "\n",
    "    under_maintenance = (\n",
    "        'Under Maintenance',\n",
    "        'closed for maintenance as of july 30 no reopening date known'\n",
    "    )\n",
    "\n",
    "    result = ''\n",
    "\n",
    "    if status in temporary_closed:\n",
    "        result = 'temporary_closed'\n",
    "    elif status in closed:\n",
    "        result = 'closed'\n",
    "    elif status in sbno:\n",
    "        result = 'sbno'\n",
    "    elif status in under_maintenance:\n",
    "        result = 'under_maintenance'\n",
    "    elif status == 'Under construction':\n",
    "        result = 'In Production'\n",
    "    else:\n",
    "        result = status\n",
    "\n",
    "    return result.lower().replace(' ', '_')\n",
    "\n",
    "\n",
    "print('Before:')\n",
    "display(df['status'].unique().to_list())\n",
    "\n",
    "df = df.with_columns(pl.col('status').fill_null('unknown'))\n",
    "df = df.with_columns(pl.col('status').map_elements(\n",
    "    change_status, return_dtype=pl.String))\n",
    "\n",
    "print('After:')\n",
    "display(df['status'].unique().to_list())"
   ]
  },
  {
   "cell_type": "markdown",
   "metadata": {},
   "source": [
    "### Extract meter in length & height columns\n"
   ]
  },
  {
   "cell_type": "code",
   "execution_count": 114,
   "metadata": {},
   "outputs": [
    {
     "data": {
      "text/html": [
       "<div><style>\n",
       ".dataframe > thead > tr,\n",
       ".dataframe > tbody > tr {\n",
       "  text-align: right;\n",
       "  white-space: pre-wrap;\n",
       "}\n",
       "</style>\n",
       "<small>shape: (1_087, 15)</small><table border=\"1\" class=\"dataframe\"><thead><tr><th>name</th><th>location</th><th>status</th><th>type_main</th><th>manufacturer</th><th>length_in_m</th><th>height_in_m</th><th>speed_in_kmh</th><th>duration_in_sec</th><th>capacity</th><th>g_force</th><th>opening_date</th><th>closing_year</th><th>latitude</th><th>longitude</th></tr><tr><td>str</td><td>str</td><td>str</td><td>str</td><td>str</td><td>f64</td><td>f64</td><td>str</td><td>str</td><td>str</td><td>f64</td><td>str</td><td>str</td><td>f64</td><td>f64</td></tr></thead><tbody><tr><td>&quot;Switchback Railway&quot;</td><td>&quot;Coney Island&quot;</td><td>&quot;closed&quot;</td><td>&quot;Wood&quot;</td><td>&quot;LaMarcus Adna Thompson&quot;</td><td>180.0</td><td>15.0</td><td>&quot;9.7 km/h&quot;</td><td>&quot;1:00&quot;</td><td>&quot;1600 riders per hour&quot;</td><td>2.9</td><td>&quot;1884-06-16&quot;</td><td>null</td><td>40.574</td><td>-73.978</td></tr><tr><td>&quot;Flip Flap Railway&quot;</td><td>&quot;Sea Lion Park&quot;</td><td>&quot;closed&quot;</td><td>&quot;Wood&quot;</td><td>&quot;Lina Beecher&quot;</td><td>null</td><td>null</td><td>null</td><td>null</td><td>null</td><td>12.0</td><td>&quot;1895-01-01&quot;</td><td>&quot;1902&quot;</td><td>40.578</td><td>-73.979</td></tr><tr><td>&quot;Switchback Railway (Euclid Bea…</td><td>&quot;Cleveland, Ohio, United States&quot;</td><td>&quot;closed&quot;</td><td>&quot;Other&quot;</td><td>null</td><td>null</td><td>null</td><td>null</td><td>null</td><td>null</td><td>null</td><td>null</td><td>null</td><td>41.58</td><td>-81.57</td></tr><tr><td>&quot;Loop the Loop (Coney Island)&quot;</td><td>&quot;Other&quot;</td><td>&quot;closed&quot;</td><td>&quot;Steel&quot;</td><td>&quot;Edwin Prescott&quot;</td><td>null</td><td>null</td><td>null</td><td>null</td><td>null</td><td>null</td><td>&quot;1901-01-01&quot;</td><td>&quot;1910&quot;</td><td>40.5745</td><td>-73.978</td></tr><tr><td>&quot;Loop the Loop (Young&#x27;s Pier)&quot;</td><td>&quot;Other&quot;</td><td>&quot;closed&quot;</td><td>&quot;Steel&quot;</td><td>&quot;Edwin Prescott&quot;</td><td>null</td><td>null</td><td>null</td><td>null</td><td>null</td><td>null</td><td>&quot;1901-01-01&quot;</td><td>&quot;1912&quot;</td><td>39.3538</td><td>-74.4342</td></tr><tr><td>&hellip;</td><td>&hellip;</td><td>&hellip;</td><td>&hellip;</td><td>&hellip;</td><td>&hellip;</td><td>&hellip;</td><td>&hellip;</td><td>&hellip;</td><td>&hellip;</td><td>&hellip;</td><td>&hellip;</td><td>&hellip;</td><td>&hellip;</td><td>&hellip;</td></tr><tr><td>&quot;American Dreier Looping&quot;</td><td>&quot;Other&quot;</td><td>&quot;unknown&quot;</td><td>&quot;Steel&quot;</td><td>&quot;Anton Schwarzkopf&quot;</td><td>1050.0</td><td>34.0</td><td>&quot;85 km/h&quot;</td><td>null</td><td>&quot;1,500 riders per hour&quot;</td><td>4.7</td><td>null</td><td>null</td><td>null</td><td>null</td></tr><tr><td>&quot;Pantheon (roller coaster)&quot;</td><td>&quot;Busch Gardens Williamsburg&quot;</td><td>&quot;in_production&quot;</td><td>&quot;Steel&quot;</td><td>&quot;Intamin&quot;</td><td>1014.0</td><td>54.0</td><td>&quot;117 km/h&quot;</td><td>null</td><td>null</td><td>null</td><td>&quot;2022-01-01&quot;</td><td>null</td><td>37.2339</td><td>-76.6426</td></tr><tr><td>&quot;Tron Lightcycle Power Run&quot;</td><td>&quot;Other&quot;</td><td>&quot;unknown&quot;</td><td>&quot;Steel&quot;</td><td>&quot;Vekoma&quot;</td><td>966.0</td><td>23.8</td><td>&quot;95.4 km/h&quot;</td><td>&quot;~2:00&quot;</td><td>&quot;1,680 riders per hour&quot;</td><td>4.0</td><td>&quot;2016-06-16&quot;</td><td>null</td><td>null</td><td>null</td></tr><tr><td>&quot;Tumbili&quot;</td><td>&quot;Kings Dominion&quot;</td><td>&quot;in_production&quot;</td><td>&quot;Steel&quot;</td><td>&quot;S&amp;S – Sansei Technologies&quot;</td><td>230.0</td><td>34.0</td><td>&quot;55 km/h&quot;</td><td>&quot;0:55&quot;</td><td>null</td><td>null</td><td>null</td><td>null</td><td>null</td><td>null</td></tr><tr><td>&quot;Wonder Woman Flight of Courage&quot;</td><td>&quot;Six Flags Magic Mountain&quot;</td><td>&quot;in_production&quot;</td><td>&quot;Steel&quot;</td><td>&quot;Rocky Mountain Construction&quot;</td><td>1000.0</td><td>40.0</td><td>&quot;93 km/h&quot;</td><td>null</td><td>null</td><td>null</td><td>&quot;2022-01-01&quot;</td><td>null</td><td>null</td><td>null</td></tr></tbody></table></div>"
      ],
      "text/plain": [
       "shape: (1_087, 15)\n",
       "┌───────────┬───────────┬───────────┬───────────┬───┬───────────┬───────────┬──────────┬───────────┐\n",
       "│ name      ┆ location  ┆ status    ┆ type_main ┆ … ┆ opening_d ┆ closing_y ┆ latitude ┆ longitude │\n",
       "│ ---       ┆ ---       ┆ ---       ┆ ---       ┆   ┆ ate       ┆ ear       ┆ ---      ┆ ---       │\n",
       "│ str       ┆ str       ┆ str       ┆ str       ┆   ┆ ---       ┆ ---       ┆ f64      ┆ f64       │\n",
       "│           ┆           ┆           ┆           ┆   ┆ str       ┆ str       ┆          ┆           │\n",
       "╞═══════════╪═══════════╪═══════════╪═══════════╪═══╪═══════════╪═══════════╪══════════╪═══════════╡\n",
       "│ Switchbac ┆ Coney     ┆ closed    ┆ Wood      ┆ … ┆ 1884-06-1 ┆ null      ┆ 40.574   ┆ -73.978   │\n",
       "│ k Railway ┆ Island    ┆           ┆           ┆   ┆ 6         ┆           ┆          ┆           │\n",
       "│ Flip Flap ┆ Sea Lion  ┆ closed    ┆ Wood      ┆ … ┆ 1895-01-0 ┆ 1902      ┆ 40.578   ┆ -73.979   │\n",
       "│ Railway   ┆ Park      ┆           ┆           ┆   ┆ 1         ┆           ┆          ┆           │\n",
       "│ Switchbac ┆ Cleveland ┆ closed    ┆ Other     ┆ … ┆ null      ┆ null      ┆ 41.58    ┆ -81.57    │\n",
       "│ k Railway ┆ , Ohio,   ┆           ┆           ┆   ┆           ┆           ┆          ┆           │\n",
       "│ (Euclid   ┆ United    ┆           ┆           ┆   ┆           ┆           ┆          ┆           │\n",
       "│ Bea…      ┆ States    ┆           ┆           ┆   ┆           ┆           ┆          ┆           │\n",
       "│ Loop the  ┆ Other     ┆ closed    ┆ Steel     ┆ … ┆ 1901-01-0 ┆ 1910      ┆ 40.5745  ┆ -73.978   │\n",
       "│ Loop      ┆           ┆           ┆           ┆   ┆ 1         ┆           ┆          ┆           │\n",
       "│ (Coney    ┆           ┆           ┆           ┆   ┆           ┆           ┆          ┆           │\n",
       "│ Island)   ┆           ┆           ┆           ┆   ┆           ┆           ┆          ┆           │\n",
       "│ Loop the  ┆ Other     ┆ closed    ┆ Steel     ┆ … ┆ 1901-01-0 ┆ 1912      ┆ 39.3538  ┆ -74.4342  │\n",
       "│ Loop      ┆           ┆           ┆           ┆   ┆ 1         ┆           ┆          ┆           │\n",
       "│ (Young's  ┆           ┆           ┆           ┆   ┆           ┆           ┆          ┆           │\n",
       "│ Pier)     ┆           ┆           ┆           ┆   ┆           ┆           ┆          ┆           │\n",
       "│ …         ┆ …         ┆ …         ┆ …         ┆ … ┆ …         ┆ …         ┆ …        ┆ …         │\n",
       "│ American  ┆ Other     ┆ unknown   ┆ Steel     ┆ … ┆ null      ┆ null      ┆ null     ┆ null      │\n",
       "│ Dreier    ┆           ┆           ┆           ┆   ┆           ┆           ┆          ┆           │\n",
       "│ Looping   ┆           ┆           ┆           ┆   ┆           ┆           ┆          ┆           │\n",
       "│ Pantheon  ┆ Busch     ┆ in_produc ┆ Steel     ┆ … ┆ 2022-01-0 ┆ null      ┆ 37.2339  ┆ -76.6426  │\n",
       "│ (roller   ┆ Gardens   ┆ tion      ┆           ┆   ┆ 1         ┆           ┆          ┆           │\n",
       "│ coaster)  ┆ Williamsb ┆           ┆           ┆   ┆           ┆           ┆          ┆           │\n",
       "│           ┆ urg       ┆           ┆           ┆   ┆           ┆           ┆          ┆           │\n",
       "│ Tron Ligh ┆ Other     ┆ unknown   ┆ Steel     ┆ … ┆ 2016-06-1 ┆ null      ┆ null     ┆ null      │\n",
       "│ tcycle    ┆           ┆           ┆           ┆   ┆ 6         ┆           ┆          ┆           │\n",
       "│ Power Run ┆           ┆           ┆           ┆   ┆           ┆           ┆          ┆           │\n",
       "│ Tumbili   ┆ Kings     ┆ in_produc ┆ Steel     ┆ … ┆ null      ┆ null      ┆ null     ┆ null      │\n",
       "│           ┆ Dominion  ┆ tion      ┆           ┆   ┆           ┆           ┆          ┆           │\n",
       "│ Wonder    ┆ Six Flags ┆ in_produc ┆ Steel     ┆ … ┆ 2022-01-0 ┆ null      ┆ null     ┆ null      │\n",
       "│ Woman     ┆ Magic     ┆ tion      ┆           ┆   ┆ 1         ┆           ┆          ┆           │\n",
       "│ Flight of ┆ Mountain  ┆           ┆           ┆   ┆           ┆           ┆          ┆           │\n",
       "│ Courage   ┆           ┆           ┆           ┆   ┆           ┆           ┆          ┆           │\n",
       "└───────────┴───────────┴───────────┴───────────┴───┴───────────┴───────────┴──────────┴───────────┘"
      ]
     },
     "execution_count": 114,
     "metadata": {},
     "output_type": "execute_result"
    }
   ],
   "source": [
    "def extract_meter(value: str) -> float:\n",
    "    match = re.search(r\"\\(([\\d.,]+)\\s*m\\)\", value)\n",
    "\n",
    "    if match:\n",
    "        return float(match.group(1).replace(',', ''))\n",
    "    else:\n",
    "        return None\n",
    "\n",
    "\n",
    "df.with_columns(\n",
    "    pl.col(\"length_in_m\").map_elements(extract_meter, return_dtype=pl.Float64),\n",
    "    pl.col(\"height_in_m\").map_elements(extract_meter, return_dtype=pl.Float64)\n",
    ")"
   ]
  },
  {
   "cell_type": "markdown",
   "metadata": {},
   "source": [
    "### Extract km/h in speed column\n"
   ]
  },
  {
   "cell_type": "code",
   "execution_count": 115,
   "metadata": {},
   "outputs": [
    {
     "data": {
      "text/html": [
       "<div><style>\n",
       ".dataframe > thead > tr,\n",
       ".dataframe > tbody > tr {\n",
       "  text-align: right;\n",
       "  white-space: pre-wrap;\n",
       "}\n",
       "</style>\n",
       "<small>shape: (1_087, 15)</small><table border=\"1\" class=\"dataframe\"><thead><tr><th>name</th><th>location</th><th>status</th><th>type_main</th><th>manufacturer</th><th>length_in_m</th><th>height_in_m</th><th>speed_in_kmh</th><th>duration_in_sec</th><th>capacity</th><th>g_force</th><th>opening_date</th><th>closing_year</th><th>latitude</th><th>longitude</th></tr><tr><td>str</td><td>str</td><td>str</td><td>str</td><td>str</td><td>str</td><td>str</td><td>f64</td><td>str</td><td>str</td><td>f64</td><td>str</td><td>str</td><td>f64</td><td>f64</td></tr></thead><tbody><tr><td>&quot;Switchback Railway&quot;</td><td>&quot;Coney Island&quot;</td><td>&quot;closed&quot;</td><td>&quot;Wood&quot;</td><td>&quot;LaMarcus Adna Thompson&quot;</td><td>&quot;600 ft (180 m)&quot;</td><td>&quot;50 ft (15 m)&quot;</td><td>9.7</td><td>&quot;1:00&quot;</td><td>&quot;1600 riders per hour&quot;</td><td>2.9</td><td>&quot;1884-06-16&quot;</td><td>null</td><td>40.574</td><td>-73.978</td></tr><tr><td>&quot;Flip Flap Railway&quot;</td><td>&quot;Sea Lion Park&quot;</td><td>&quot;closed&quot;</td><td>&quot;Wood&quot;</td><td>&quot;Lina Beecher&quot;</td><td>null</td><td>null</td><td>null</td><td>null</td><td>null</td><td>12.0</td><td>&quot;1895-01-01&quot;</td><td>&quot;1902&quot;</td><td>40.578</td><td>-73.979</td></tr><tr><td>&quot;Switchback Railway (Euclid Bea…</td><td>&quot;Cleveland, Ohio, United States&quot;</td><td>&quot;closed&quot;</td><td>&quot;Other&quot;</td><td>null</td><td>null</td><td>null</td><td>null</td><td>null</td><td>null</td><td>null</td><td>null</td><td>null</td><td>41.58</td><td>-81.57</td></tr><tr><td>&quot;Loop the Loop (Coney Island)&quot;</td><td>&quot;Other&quot;</td><td>&quot;closed&quot;</td><td>&quot;Steel&quot;</td><td>&quot;Edwin Prescott&quot;</td><td>null</td><td>null</td><td>null</td><td>null</td><td>null</td><td>null</td><td>&quot;1901-01-01&quot;</td><td>&quot;1910&quot;</td><td>40.5745</td><td>-73.978</td></tr><tr><td>&quot;Loop the Loop (Young&#x27;s Pier)&quot;</td><td>&quot;Other&quot;</td><td>&quot;closed&quot;</td><td>&quot;Steel&quot;</td><td>&quot;Edwin Prescott&quot;</td><td>null</td><td>null</td><td>null</td><td>null</td><td>null</td><td>null</td><td>&quot;1901-01-01&quot;</td><td>&quot;1912&quot;</td><td>39.3538</td><td>-74.4342</td></tr><tr><td>&hellip;</td><td>&hellip;</td><td>&hellip;</td><td>&hellip;</td><td>&hellip;</td><td>&hellip;</td><td>&hellip;</td><td>&hellip;</td><td>&hellip;</td><td>&hellip;</td><td>&hellip;</td><td>&hellip;</td><td>&hellip;</td><td>&hellip;</td><td>&hellip;</td></tr><tr><td>&quot;American Dreier Looping&quot;</td><td>&quot;Other&quot;</td><td>&quot;unknown&quot;</td><td>&quot;Steel&quot;</td><td>&quot;Anton Schwarzkopf&quot;</td><td>&quot;3,444 ft (1,050 m)&quot;</td><td>&quot;111 ft (34 m)&quot;</td><td>85.0</td><td>null</td><td>&quot;1,500 riders per hour&quot;</td><td>4.7</td><td>null</td><td>null</td><td>null</td><td>null</td></tr><tr><td>&quot;Pantheon (roller coaster)&quot;</td><td>&quot;Busch Gardens Williamsburg&quot;</td><td>&quot;in_production&quot;</td><td>&quot;Steel&quot;</td><td>&quot;Intamin&quot;</td><td>&quot;3,328 ft (1,014 m)&quot;</td><td>&quot;178 ft (54 m)&quot;</td><td>117.0</td><td>null</td><td>null</td><td>null</td><td>&quot;2022-01-01&quot;</td><td>null</td><td>37.2339</td><td>-76.6426</td></tr><tr><td>&quot;Tron Lightcycle Power Run&quot;</td><td>&quot;Other&quot;</td><td>&quot;unknown&quot;</td><td>&quot;Steel&quot;</td><td>&quot;Vekoma&quot;</td><td>&quot;3,169.3 ft (966.0 m)&quot;</td><td>&quot;78.1 ft (23.8 m)&quot;</td><td>95.4</td><td>&quot;~2:00&quot;</td><td>&quot;1,680 riders per hour&quot;</td><td>4.0</td><td>&quot;2016-06-16&quot;</td><td>null</td><td>null</td><td>null</td></tr><tr><td>&quot;Tumbili&quot;</td><td>&quot;Kings Dominion&quot;</td><td>&quot;in_production&quot;</td><td>&quot;Steel&quot;</td><td>&quot;S&amp;S – Sansei Technologies&quot;</td><td>&quot;770 ft (230 m)&quot;</td><td>&quot;112 ft (34 m)&quot;</td><td>55.0</td><td>&quot;0:55&quot;</td><td>null</td><td>null</td><td>null</td><td>null</td><td>null</td><td>null</td></tr><tr><td>&quot;Wonder Woman Flight of Courage&quot;</td><td>&quot;Six Flags Magic Mountain&quot;</td><td>&quot;in_production&quot;</td><td>&quot;Steel&quot;</td><td>&quot;Rocky Mountain Construction&quot;</td><td>&quot;3,300 ft (1,000 m)&quot;</td><td>&quot;131 ft (40 m)&quot;</td><td>93.0</td><td>null</td><td>null</td><td>null</td><td>&quot;2022-01-01&quot;</td><td>null</td><td>null</td><td>null</td></tr></tbody></table></div>"
      ],
      "text/plain": [
       "shape: (1_087, 15)\n",
       "┌───────────┬───────────┬───────────┬───────────┬───┬───────────┬───────────┬──────────┬───────────┐\n",
       "│ name      ┆ location  ┆ status    ┆ type_main ┆ … ┆ opening_d ┆ closing_y ┆ latitude ┆ longitude │\n",
       "│ ---       ┆ ---       ┆ ---       ┆ ---       ┆   ┆ ate       ┆ ear       ┆ ---      ┆ ---       │\n",
       "│ str       ┆ str       ┆ str       ┆ str       ┆   ┆ ---       ┆ ---       ┆ f64      ┆ f64       │\n",
       "│           ┆           ┆           ┆           ┆   ┆ str       ┆ str       ┆          ┆           │\n",
       "╞═══════════╪═══════════╪═══════════╪═══════════╪═══╪═══════════╪═══════════╪══════════╪═══════════╡\n",
       "│ Switchbac ┆ Coney     ┆ closed    ┆ Wood      ┆ … ┆ 1884-06-1 ┆ null      ┆ 40.574   ┆ -73.978   │\n",
       "│ k Railway ┆ Island    ┆           ┆           ┆   ┆ 6         ┆           ┆          ┆           │\n",
       "│ Flip Flap ┆ Sea Lion  ┆ closed    ┆ Wood      ┆ … ┆ 1895-01-0 ┆ 1902      ┆ 40.578   ┆ -73.979   │\n",
       "│ Railway   ┆ Park      ┆           ┆           ┆   ┆ 1         ┆           ┆          ┆           │\n",
       "│ Switchbac ┆ Cleveland ┆ closed    ┆ Other     ┆ … ┆ null      ┆ null      ┆ 41.58    ┆ -81.57    │\n",
       "│ k Railway ┆ , Ohio,   ┆           ┆           ┆   ┆           ┆           ┆          ┆           │\n",
       "│ (Euclid   ┆ United    ┆           ┆           ┆   ┆           ┆           ┆          ┆           │\n",
       "│ Bea…      ┆ States    ┆           ┆           ┆   ┆           ┆           ┆          ┆           │\n",
       "│ Loop the  ┆ Other     ┆ closed    ┆ Steel     ┆ … ┆ 1901-01-0 ┆ 1910      ┆ 40.5745  ┆ -73.978   │\n",
       "│ Loop      ┆           ┆           ┆           ┆   ┆ 1         ┆           ┆          ┆           │\n",
       "│ (Coney    ┆           ┆           ┆           ┆   ┆           ┆           ┆          ┆           │\n",
       "│ Island)   ┆           ┆           ┆           ┆   ┆           ┆           ┆          ┆           │\n",
       "│ Loop the  ┆ Other     ┆ closed    ┆ Steel     ┆ … ┆ 1901-01-0 ┆ 1912      ┆ 39.3538  ┆ -74.4342  │\n",
       "│ Loop      ┆           ┆           ┆           ┆   ┆ 1         ┆           ┆          ┆           │\n",
       "│ (Young's  ┆           ┆           ┆           ┆   ┆           ┆           ┆          ┆           │\n",
       "│ Pier)     ┆           ┆           ┆           ┆   ┆           ┆           ┆          ┆           │\n",
       "│ …         ┆ …         ┆ …         ┆ …         ┆ … ┆ …         ┆ …         ┆ …        ┆ …         │\n",
       "│ American  ┆ Other     ┆ unknown   ┆ Steel     ┆ … ┆ null      ┆ null      ┆ null     ┆ null      │\n",
       "│ Dreier    ┆           ┆           ┆           ┆   ┆           ┆           ┆          ┆           │\n",
       "│ Looping   ┆           ┆           ┆           ┆   ┆           ┆           ┆          ┆           │\n",
       "│ Pantheon  ┆ Busch     ┆ in_produc ┆ Steel     ┆ … ┆ 2022-01-0 ┆ null      ┆ 37.2339  ┆ -76.6426  │\n",
       "│ (roller   ┆ Gardens   ┆ tion      ┆           ┆   ┆ 1         ┆           ┆          ┆           │\n",
       "│ coaster)  ┆ Williamsb ┆           ┆           ┆   ┆           ┆           ┆          ┆           │\n",
       "│           ┆ urg       ┆           ┆           ┆   ┆           ┆           ┆          ┆           │\n",
       "│ Tron Ligh ┆ Other     ┆ unknown   ┆ Steel     ┆ … ┆ 2016-06-1 ┆ null      ┆ null     ┆ null      │\n",
       "│ tcycle    ┆           ┆           ┆           ┆   ┆ 6         ┆           ┆          ┆           │\n",
       "│ Power Run ┆           ┆           ┆           ┆   ┆           ┆           ┆          ┆           │\n",
       "│ Tumbili   ┆ Kings     ┆ in_produc ┆ Steel     ┆ … ┆ null      ┆ null      ┆ null     ┆ null      │\n",
       "│           ┆ Dominion  ┆ tion      ┆           ┆   ┆           ┆           ┆          ┆           │\n",
       "│ Wonder    ┆ Six Flags ┆ in_produc ┆ Steel     ┆ … ┆ 2022-01-0 ┆ null      ┆ null     ┆ null      │\n",
       "│ Woman     ┆ Magic     ┆ tion      ┆           ┆   ┆ 1         ┆           ┆          ┆           │\n",
       "│ Flight of ┆ Mountain  ┆           ┆           ┆   ┆           ┆           ┆          ┆           │\n",
       "│ Courage   ┆           ┆           ┆           ┆   ┆           ┆           ┆          ┆           │\n",
       "└───────────┴───────────┴───────────┴───────────┴───┴───────────┴───────────┴──────────┴───────────┘"
      ]
     },
     "execution_count": 115,
     "metadata": {},
     "output_type": "execute_result"
    }
   ],
   "source": [
    "def extract_kmh(value: str) -> float:\n",
    "    MPH_TO_KMH = 1.60934\n",
    "\n",
    "    if \"mp\" in value:\n",
    "        # Convert mph to km/h\n",
    "        return float(re.search(r\"[\\d.]+\", value).group()) * MPH_TO_KMH\n",
    "    elif \"km\" in value:\n",
    "        return float(re.search(r\"[\\d.]+\", value).group())\n",
    "    else:\n",
    "        return None\n",
    "\n",
    "\n",
    "df = df.with_columns(\n",
    "    pl.col(\"speed_in_kmh\").map_elements(extract_kmh, return_dtype=pl.Float64)\n",
    ")\n",
    "df"
   ]
  }
 ],
 "metadata": {
  "kernelspec": {
   "display_name": ".venv",
   "language": "python",
   "name": "python3"
  },
  "language_info": {
   "codemirror_mode": {
    "name": "ipython",
    "version": 3
   },
   "file_extension": ".py",
   "mimetype": "text/x-python",
   "name": "python",
   "nbconvert_exporter": "python",
   "pygments_lexer": "ipython3",
   "version": "3.12.3"
  }
 },
 "nbformat": 4,
 "nbformat_minor": 2
}
