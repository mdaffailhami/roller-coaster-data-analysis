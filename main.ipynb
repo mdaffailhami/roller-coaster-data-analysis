{
 "cells": [
  {
   "cell_type": "code",
   "execution_count": 516,
   "metadata": {},
   "outputs": [],
   "source": [
    "import polars as pl"
   ]
  },
  {
   "cell_type": "code",
   "execution_count": 517,
   "metadata": {},
   "outputs": [
    {
     "data": {
      "text/html": [
       "<div><style>\n",
       ".dataframe > thead > tr,\n",
       ".dataframe > tbody > tr {\n",
       "  text-align: right;\n",
       "  white-space: pre-wrap;\n",
       "}\n",
       "</style>\n",
       "<small>shape: (5, 56)</small><table border=\"1\" class=\"dataframe\"><thead><tr><th>coaster_name</th><th>Length</th><th>Speed</th><th>Location</th><th>Status</th><th>Opening date</th><th>Type</th><th>Manufacturer</th><th>Height restriction</th><th>Model</th><th>Height</th><th>Inversions</th><th>Lift/launch system</th><th>Cost</th><th>Trains</th><th>Park section</th><th>Duration</th><th>Capacity</th><th>G-force</th><th>Designer</th><th>Max vertical angle</th><th>Drop</th><th>Soft opening date</th><th>Fast Lane available</th><th>Replaced</th><th>Track layout</th><th>Fastrack available</th><th>Soft opening date.1</th><th>Closing date</th><th>Opened</th><th>Replaced by</th><th>Website</th><th>Flash Pass Available</th><th>Must transfer from wheelchair</th><th>Theme</th><th>Single rider line available</th><th>Restraint Style</th><th>Flash Pass available</th><th>Acceleration</th><th>Restraints</th><th>Name</th><th>year_introduced</th><th>latitude</th><th>longitude</th><th>Type_Main</th><th>opening_date_clean</th><th>speed1</th><th>speed2</th><th>speed1_value</th><th>speed1_unit</th><th>speed_mph</th><th>height_value</th><th>height_unit</th><th>height_ft</th><th>Inversions_clean</th><th>Gforce_clean</th></tr><tr><td>str</td><td>str</td><td>str</td><td>str</td><td>str</td><td>str</td><td>str</td><td>str</td><td>str</td><td>str</td><td>str</td><td>i64</td><td>str</td><td>str</td><td>str</td><td>str</td><td>str</td><td>str</td><td>str</td><td>str</td><td>str</td><td>str</td><td>str</td><td>str</td><td>str</td><td>str</td><td>str</td><td>str</td><td>str</td><td>str</td><td>str</td><td>str</td><td>str</td><td>str</td><td>str</td><td>str</td><td>str</td><td>str</td><td>str</td><td>str</td><td>str</td><td>i64</td><td>f64</td><td>f64</td><td>str</td><td>str</td><td>str</td><td>str</td><td>f64</td><td>str</td><td>f64</td><td>f64</td><td>str</td><td>f64</td><td>i64</td><td>f64</td></tr></thead><tbody><tr><td>&quot;Switchback Railway&quot;</td><td>&quot;600 ft (180 m)&quot;</td><td>&quot;6 mph (9.7 km/h)&quot;</td><td>&quot;Coney Island&quot;</td><td>&quot;Removed&quot;</td><td>&quot;June 16, 1884&quot;</td><td>&quot;Wood&quot;</td><td>&quot;LaMarcus Adna Thompson&quot;</td><td>null</td><td>&quot;Lift Packed&quot;</td><td>&quot;50 ft (15 m)&quot;</td><td>null</td><td>&quot;gravity&quot;</td><td>null</td><td>null</td><td>&quot;Coney Island Cyclone Site&quot;</td><td>&quot;1:00&quot;</td><td>&quot;1600 riders per hour&quot;</td><td>&quot;2.9&quot;</td><td>&quot;LaMarcus Adna Thompson&quot;</td><td>&quot;30°&quot;</td><td>&quot;43 ft (13 m)&quot;</td><td>null</td><td>null</td><td>null</td><td>&quot;Gravity pulled coaster&quot;</td><td>null</td><td>null</td><td>null</td><td>null</td><td>null</td><td>null</td><td>null</td><td>null</td><td>null</td><td>null</td><td>null</td><td>null</td><td>null</td><td>null</td><td>null</td><td>1884</td><td>40.574</td><td>-73.978</td><td>&quot;Wood&quot;</td><td>&quot;1884-06-16&quot;</td><td>&quot;6 mph &quot;</td><td>&quot;9.7 km/h&quot;</td><td>6.0</td><td>&quot;mph&quot;</td><td>6.0</td><td>50.0</td><td>&quot;ft&quot;</td><td>null</td><td>0</td><td>2.9</td></tr><tr><td>&quot;Flip Flap Railway&quot;</td><td>null</td><td>null</td><td>&quot;Sea Lion Park&quot;</td><td>&quot;Removed&quot;</td><td>&quot;1895&quot;</td><td>&quot;Wood&quot;</td><td>&quot;Lina Beecher&quot;</td><td>null</td><td>null</td><td>null</td><td>1</td><td>null</td><td>null</td><td>&quot;a single car. Riders are arran…</td><td>null</td><td>null</td><td>null</td><td>&quot;12&quot;</td><td>&quot;Lina Beecher&quot;</td><td>null</td><td>null</td><td>null</td><td>null</td><td>null</td><td>null</td><td>null</td><td>null</td><td>&quot;1902&quot;</td><td>null</td><td>null</td><td>null</td><td>null</td><td>null</td><td>null</td><td>null</td><td>null</td><td>null</td><td>null</td><td>null</td><td>null</td><td>1895</td><td>40.578</td><td>-73.979</td><td>&quot;Wood&quot;</td><td>&quot;1895-01-01&quot;</td><td>null</td><td>null</td><td>null</td><td>null</td><td>null</td><td>null</td><td>null</td><td>null</td><td>1</td><td>12.0</td></tr><tr><td>&quot;Switchback Railway (Euclid Bea…</td><td>null</td><td>null</td><td>&quot;Cleveland, Ohio, United States&quot;</td><td>&quot;Closed&quot;</td><td>null</td><td>&quot;Other&quot;</td><td>null</td><td>null</td><td>null</td><td>null</td><td>null</td><td>null</td><td>null</td><td>null</td><td>null</td><td>null</td><td>null</td><td>null</td><td>null</td><td>null</td><td>null</td><td>null</td><td>null</td><td>null</td><td>null</td><td>null</td><td>null</td><td>null</td><td>&quot;1895&quot;</td><td>null</td><td>null</td><td>null</td><td>null</td><td>null</td><td>null</td><td>null</td><td>null</td><td>null</td><td>null</td><td>null</td><td>1896</td><td>41.58</td><td>-81.57</td><td>&quot;Other&quot;</td><td>null</td><td>null</td><td>null</td><td>null</td><td>null</td><td>null</td><td>null</td><td>null</td><td>null</td><td>0</td><td>null</td></tr><tr><td>&quot;Loop the Loop (Coney Island)&quot;</td><td>null</td><td>null</td><td>&quot;Other&quot;</td><td>&quot;Removed&quot;</td><td>&quot;1901&quot;</td><td>&quot;Steel&quot;</td><td>&quot;Edwin Prescott&quot;</td><td>null</td><td>null</td><td>null</td><td>1</td><td>null</td><td>null</td><td>&quot;a single car. Riders are arran…</td><td>null</td><td>null</td><td>null</td><td>null</td><td>&quot;Edward A. Green&quot;</td><td>null</td><td>null</td><td>null</td><td>null</td><td>&quot;Switchback Railway&quot;</td><td>null</td><td>null</td><td>null</td><td>&quot;1910&quot;</td><td>null</td><td>&quot;Giant Racer&quot;</td><td>null</td><td>null</td><td>null</td><td>null</td><td>null</td><td>null</td><td>null</td><td>null</td><td>null</td><td>null</td><td>1901</td><td>40.5745</td><td>-73.978</td><td>&quot;Steel&quot;</td><td>&quot;1901-01-01&quot;</td><td>null</td><td>null</td><td>null</td><td>null</td><td>null</td><td>null</td><td>null</td><td>null</td><td>1</td><td>null</td></tr><tr><td>&quot;Loop the Loop (Young&#x27;s Pier)&quot;</td><td>null</td><td>null</td><td>&quot;Other&quot;</td><td>&quot;Removed&quot;</td><td>&quot;1901&quot;</td><td>&quot;Steel&quot;</td><td>&quot;Edwin Prescott&quot;</td><td>null</td><td>null</td><td>null</td><td>1</td><td>null</td><td>null</td><td>null</td><td>null</td><td>null</td><td>null</td><td>null</td><td>&quot;Edward A. Green&quot;</td><td>null</td><td>null</td><td>null</td><td>null</td><td>null</td><td>null</td><td>null</td><td>null</td><td>&quot;1912&quot;</td><td>null</td><td>null</td><td>null</td><td>null</td><td>null</td><td>null</td><td>null</td><td>null</td><td>null</td><td>null</td><td>null</td><td>null</td><td>1901</td><td>39.3538</td><td>-74.4342</td><td>&quot;Steel&quot;</td><td>&quot;1901-01-01&quot;</td><td>null</td><td>null</td><td>null</td><td>null</td><td>null</td><td>null</td><td>null</td><td>null</td><td>1</td><td>null</td></tr></tbody></table></div>"
      ],
      "text/plain": [
       "shape: (5, 56)\n",
       "┌────────────┬────────────┬───────┬────────────┬───┬───────────┬───────────┬───────────┬───────────┐\n",
       "│ coaster_na ┆ Length     ┆ Speed ┆ Location   ┆ … ┆ height_un ┆ height_ft ┆ Inversion ┆ Gforce_cl │\n",
       "│ me         ┆ ---        ┆ ---   ┆ ---        ┆   ┆ it        ┆ ---       ┆ s_clean   ┆ ean       │\n",
       "│ ---        ┆ str        ┆ str   ┆ str        ┆   ┆ ---       ┆ f64       ┆ ---       ┆ ---       │\n",
       "│ str        ┆            ┆       ┆            ┆   ┆ str       ┆           ┆ i64       ┆ f64       │\n",
       "╞════════════╪════════════╪═══════╪════════════╪═══╪═══════════╪═══════════╪═══════════╪═══════════╡\n",
       "│ Switchback ┆ 600 ft     ┆ 6 mph ┆ Coney      ┆ … ┆ ft        ┆ null      ┆ 0         ┆ 2.9       │\n",
       "│ Railway    ┆ (180 m)    ┆ (9.7  ┆ Island     ┆   ┆           ┆           ┆           ┆           │\n",
       "│            ┆            ┆ km/h) ┆            ┆   ┆           ┆           ┆           ┆           │\n",
       "│ Flip Flap  ┆ null       ┆ null  ┆ Sea Lion   ┆ … ┆ null      ┆ null      ┆ 1         ┆ 12.0      │\n",
       "│ Railway    ┆            ┆       ┆ Park       ┆   ┆           ┆           ┆           ┆           │\n",
       "│ Switchback ┆ null       ┆ null  ┆ Cleveland, ┆ … ┆ null      ┆ null      ┆ 0         ┆ null      │\n",
       "│ Railway    ┆            ┆       ┆ Ohio,      ┆   ┆           ┆           ┆           ┆           │\n",
       "│ (Euclid    ┆            ┆       ┆ United     ┆   ┆           ┆           ┆           ┆           │\n",
       "│ Bea…       ┆            ┆       ┆ States     ┆   ┆           ┆           ┆           ┆           │\n",
       "│ Loop the   ┆ null       ┆ null  ┆ Other      ┆ … ┆ null      ┆ null      ┆ 1         ┆ null      │\n",
       "│ Loop       ┆            ┆       ┆            ┆   ┆           ┆           ┆           ┆           │\n",
       "│ (Coney     ┆            ┆       ┆            ┆   ┆           ┆           ┆           ┆           │\n",
       "│ Island)    ┆            ┆       ┆            ┆   ┆           ┆           ┆           ┆           │\n",
       "│ Loop the   ┆ null       ┆ null  ┆ Other      ┆ … ┆ null      ┆ null      ┆ 1         ┆ null      │\n",
       "│ Loop       ┆            ┆       ┆            ┆   ┆           ┆           ┆           ┆           │\n",
       "│ (Young's   ┆            ┆       ┆            ┆   ┆           ┆           ┆           ┆           │\n",
       "│ Pier)      ┆            ┆       ┆            ┆   ┆           ┆           ┆           ┆           │\n",
       "└────────────┴────────────┴───────┴────────────┴───┴───────────┴───────────┴───────────┴───────────┘"
      ]
     },
     "execution_count": 517,
     "metadata": {},
     "output_type": "execute_result"
    }
   ],
   "source": [
    "df = pl.read_csv(r'./data/coaster_db.csv')\n",
    "df.head()"
   ]
  },
  {
   "cell_type": "markdown",
   "metadata": {},
   "source": [
    "### Filter columns\n"
   ]
  },
  {
   "cell_type": "code",
   "execution_count": 518,
   "metadata": {},
   "outputs": [
    {
     "data": {
      "text/html": [
       "<div><style>\n",
       ".dataframe > thead > tr,\n",
       ".dataframe > tbody > tr {\n",
       "  text-align: right;\n",
       "  white-space: pre-wrap;\n",
       "}\n",
       "</style>\n",
       "<small>shape: (1, 15)</small><table border=\"1\" class=\"dataframe\"><thead><tr><th>coaster_name</th><th>Location</th><th>Status</th><th>Type_Main</th><th>Manufacturer</th><th>Length</th><th>Height</th><th>speed2</th><th>Duration</th><th>Capacity</th><th>Gforce_clean</th><th>opening_date_clean</th><th>Closing date</th><th>latitude</th><th>longitude</th></tr><tr><td>str</td><td>str</td><td>str</td><td>str</td><td>str</td><td>str</td><td>str</td><td>str</td><td>str</td><td>str</td><td>f64</td><td>str</td><td>str</td><td>f64</td><td>f64</td></tr></thead><tbody><tr><td>&quot;Switchback Railway&quot;</td><td>&quot;Coney Island&quot;</td><td>&quot;Removed&quot;</td><td>&quot;Wood&quot;</td><td>&quot;LaMarcus Adna Thompson&quot;</td><td>&quot;600 ft (180 m)&quot;</td><td>&quot;50 ft (15 m)&quot;</td><td>&quot;9.7 km/h&quot;</td><td>&quot;1:00&quot;</td><td>&quot;1600 riders per hour&quot;</td><td>2.9</td><td>&quot;1884-06-16&quot;</td><td>null</td><td>40.574</td><td>-73.978</td></tr></tbody></table></div>"
      ],
      "text/plain": [
       "shape: (1, 15)\n",
       "┌────────────┬────────────┬─────────┬───────────┬───┬───────────┬───────────┬──────────┬───────────┐\n",
       "│ coaster_na ┆ Location   ┆ Status  ┆ Type_Main ┆ … ┆ opening_d ┆ Closing   ┆ latitude ┆ longitude │\n",
       "│ me         ┆ ---        ┆ ---     ┆ ---       ┆   ┆ ate_clean ┆ date      ┆ ---      ┆ ---       │\n",
       "│ ---        ┆ str        ┆ str     ┆ str       ┆   ┆ ---       ┆ ---       ┆ f64      ┆ f64       │\n",
       "│ str        ┆            ┆         ┆           ┆   ┆ str       ┆ str       ┆          ┆           │\n",
       "╞════════════╪════════════╪═════════╪═══════════╪═══╪═══════════╪═══════════╪══════════╪═══════════╡\n",
       "│ Switchback ┆ Coney      ┆ Removed ┆ Wood      ┆ … ┆ 1884-06-1 ┆ null      ┆ 40.574   ┆ -73.978   │\n",
       "│ Railway    ┆ Island     ┆         ┆           ┆   ┆ 6         ┆           ┆          ┆           │\n",
       "└────────────┴────────────┴─────────┴───────────┴───┴───────────┴───────────┴──────────┴───────────┘"
      ]
     },
     "execution_count": 518,
     "metadata": {},
     "output_type": "execute_result"
    }
   ],
   "source": [
    "df = df[[\n",
    "    'coaster_name', 'Location', 'Status', 'Type_Main', 'Manufacturer',\n",
    "    'Length', 'Height', 'speed2', 'Duration', 'Capacity', 'Gforce_clean',\n",
    "    'opening_date_clean', 'Closing date', 'latitude', 'longitude'\n",
    "]]\n",
    "df.head(1)"
   ]
  },
  {
   "cell_type": "markdown",
   "metadata": {},
   "source": [
    "### Rename columns\n"
   ]
  },
  {
   "cell_type": "code",
   "execution_count": 519,
   "metadata": {},
   "outputs": [
    {
     "data": {
      "text/html": [
       "<div><style>\n",
       ".dataframe > thead > tr,\n",
       ".dataframe > tbody > tr {\n",
       "  text-align: right;\n",
       "  white-space: pre-wrap;\n",
       "}\n",
       "</style>\n",
       "<small>shape: (1, 15)</small><table border=\"1\" class=\"dataframe\"><thead><tr><th>name</th><th>location</th><th>status</th><th>type_main</th><th>manufacturer</th><th>length</th><th>height</th><th>speed_in_km</th><th>duration_in_sec</th><th>capacity</th><th>g_force</th><th>opening_date</th><th>closing_year</th><th>latitude</th><th>longitude</th></tr><tr><td>str</td><td>str</td><td>str</td><td>str</td><td>str</td><td>str</td><td>str</td><td>str</td><td>str</td><td>str</td><td>f64</td><td>str</td><td>str</td><td>f64</td><td>f64</td></tr></thead><tbody><tr><td>&quot;Switchback Railway&quot;</td><td>&quot;Coney Island&quot;</td><td>&quot;Removed&quot;</td><td>&quot;Wood&quot;</td><td>&quot;LaMarcus Adna Thompson&quot;</td><td>&quot;600 ft (180 m)&quot;</td><td>&quot;50 ft (15 m)&quot;</td><td>&quot;9.7 km/h&quot;</td><td>&quot;1:00&quot;</td><td>&quot;1600 riders per hour&quot;</td><td>2.9</td><td>&quot;1884-06-16&quot;</td><td>null</td><td>40.574</td><td>-73.978</td></tr></tbody></table></div>"
      ],
      "text/plain": [
       "shape: (1, 15)\n",
       "┌────────────┬────────────┬─────────┬───────────┬───┬───────────┬───────────┬──────────┬───────────┐\n",
       "│ name       ┆ location   ┆ status  ┆ type_main ┆ … ┆ opening_d ┆ closing_y ┆ latitude ┆ longitude │\n",
       "│ ---        ┆ ---        ┆ ---     ┆ ---       ┆   ┆ ate       ┆ ear       ┆ ---      ┆ ---       │\n",
       "│ str        ┆ str        ┆ str     ┆ str       ┆   ┆ ---       ┆ ---       ┆ f64      ┆ f64       │\n",
       "│            ┆            ┆         ┆           ┆   ┆ str       ┆ str       ┆          ┆           │\n",
       "╞════════════╪════════════╪═════════╪═══════════╪═══╪═══════════╪═══════════╪══════════╪═══════════╡\n",
       "│ Switchback ┆ Coney      ┆ Removed ┆ Wood      ┆ … ┆ 1884-06-1 ┆ null      ┆ 40.574   ┆ -73.978   │\n",
       "│ Railway    ┆ Island     ┆         ┆           ┆   ┆ 6         ┆           ┆          ┆           │\n",
       "└────────────┴────────────┴─────────┴───────────┴───┴───────────┴───────────┴──────────┴───────────┘"
      ]
     },
     "execution_count": 519,
     "metadata": {},
     "output_type": "execute_result"
    }
   ],
   "source": [
    "df = df.rename(lambda col: col.lower().replace(' ', '_'))\n",
    "df = df.rename({\n",
    "    'coaster_name': 'name',\n",
    "    'opening_date_clean': 'opening_date',\n",
    "    'closing_date': 'closing_year',\n",
    "    'speed2': 'speed_in_km',\n",
    "    'duration': 'duration_in_sec',\n",
    "    'gforce_clean': 'g_force'\n",
    "})\n",
    "df.head(1)"
   ]
  }
 ],
 "metadata": {
  "kernelspec": {
   "display_name": ".venv",
   "language": "python",
   "name": "python3"
  },
  "language_info": {
   "codemirror_mode": {
    "name": "ipython",
    "version": 3
   },
   "file_extension": ".py",
   "mimetype": "text/x-python",
   "name": "python",
   "nbconvert_exporter": "python",
   "pygments_lexer": "ipython3",
   "version": "3.12.3"
  }
 },
 "nbformat": 4,
 "nbformat_minor": 2
}
