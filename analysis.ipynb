{
 "cells": [
  {
   "cell_type": "code",
   "execution_count": 59,
   "metadata": {},
   "outputs": [],
   "source": [
    "import polars as pl\n",
    "import altair as alt"
   ]
  },
  {
   "cell_type": "code",
   "execution_count": 60,
   "metadata": {},
   "outputs": [
    {
     "data": {
      "text/html": [
       "<div><style>\n",
       ".dataframe > thead > tr,\n",
       ".dataframe > tbody > tr {\n",
       "  text-align: right;\n",
       "  white-space: pre-wrap;\n",
       "}\n",
       "</style>\n",
       "<small>shape: (990, 15)</small><table border=\"1\" class=\"dataframe\"><thead><tr><th>name</th><th>location</th><th>status</th><th>material</th><th>manufacturer</th><th>length_in_m</th><th>height_in_m</th><th>speed_in_kmh</th><th>duration</th><th>capacity</th><th>g_force</th><th>opening_date</th><th>closing_year</th><th>latitude</th><th>longitude</th></tr><tr><td>str</td><td>str</td><td>cat</td><td>cat</td><td>str</td><td>f64</td><td>f64</td><td>f64</td><td>duration[ms]</td><td>i64</td><td>f64</td><td>date</td><td>i16</td><td>f64</td><td>f64</td></tr></thead><tbody><tr><td>&quot;Switchback Railway&quot;</td><td>&quot;Coney Island&quot;</td><td>&quot;closed&quot;</td><td>&quot;wood&quot;</td><td>&quot;LaMarcus Adna Thompson&quot;</td><td>180.0</td><td>15.0</td><td>9.7</td><td>1m</td><td>1600</td><td>2.9</td><td>1884-06-16</td><td>null</td><td>40.574</td><td>-73.978</td></tr><tr><td>&quot;Flip Flap Railway&quot;</td><td>&quot;Sea Lion Park&quot;</td><td>&quot;closed&quot;</td><td>&quot;wood&quot;</td><td>&quot;Lina Beecher&quot;</td><td>null</td><td>null</td><td>null</td><td>null</td><td>null</td><td>12.0</td><td>1895-01-01</td><td>1902</td><td>40.578</td><td>-73.979</td></tr><tr><td>&quot;Switchback Railway (Euclid Bea…</td><td>&quot;Cleveland, Ohio, United States&quot;</td><td>&quot;closed&quot;</td><td>&quot;other&quot;</td><td>null</td><td>null</td><td>null</td><td>null</td><td>null</td><td>null</td><td>null</td><td>null</td><td>null</td><td>41.58</td><td>-81.57</td></tr><tr><td>&quot;Loop the Loop (Coney Island)&quot;</td><td>&quot;Other&quot;</td><td>&quot;closed&quot;</td><td>&quot;steel&quot;</td><td>&quot;Edwin Prescott&quot;</td><td>null</td><td>null</td><td>null</td><td>null</td><td>null</td><td>null</td><td>1901-01-01</td><td>1910</td><td>40.5745</td><td>-73.978</td></tr><tr><td>&quot;Loop the Loop (Young&#x27;s Pier)&quot;</td><td>&quot;Other&quot;</td><td>&quot;closed&quot;</td><td>&quot;steel&quot;</td><td>&quot;Edwin Prescott&quot;</td><td>null</td><td>null</td><td>null</td><td>null</td><td>null</td><td>null</td><td>1901-01-01</td><td>1912</td><td>39.3538</td><td>-74.4342</td></tr><tr><td>&hellip;</td><td>&hellip;</td><td>&hellip;</td><td>&hellip;</td><td>&hellip;</td><td>&hellip;</td><td>&hellip;</td><td>&hellip;</td><td>&hellip;</td><td>&hellip;</td><td>&hellip;</td><td>&hellip;</td><td>&hellip;</td><td>&hellip;</td><td>&hellip;</td></tr><tr><td>&quot;Ice Breaker (roller coaster)&quot;</td><td>&quot;SeaWorld Orlando&quot;</td><td>&quot;in_production&quot;</td><td>&quot;steel&quot;</td><td>&quot;Premier Rides&quot;</td><td>580.0</td><td>28.0</td><td>84.0</td><td>null</td><td>null</td><td>null</td><td>2022-02-01</td><td>null</td><td>28.4088</td><td>-81.4633</td></tr><tr><td>&quot;Leviathan (Sea World)&quot;</td><td>&quot;Sea World&quot;</td><td>&quot;in_production&quot;</td><td>&quot;wood&quot;</td><td>&quot;Martin &amp; Vleminckx&quot;</td><td>null</td><td>null</td><td>79.984198</td><td>null</td><td>720</td><td>null</td><td>2022-01-01</td><td>null</td><td>-27.9574</td><td>153.4263</td></tr><tr><td>&quot;Pantheon (roller coaster)&quot;</td><td>&quot;Busch Gardens Williamsburg&quot;</td><td>&quot;in_production&quot;</td><td>&quot;steel&quot;</td><td>&quot;Intamin&quot;</td><td>1014.0</td><td>54.0</td><td>117.0</td><td>null</td><td>null</td><td>null</td><td>2022-01-01</td><td>null</td><td>37.2339</td><td>-76.6426</td></tr><tr><td>&quot;Tumbili&quot;</td><td>&quot;Kings Dominion&quot;</td><td>&quot;in_production&quot;</td><td>&quot;steel&quot;</td><td>&quot;S&amp;S – Sansei Technologies&quot;</td><td>230.0</td><td>34.0</td><td>55.0</td><td>55s</td><td>null</td><td>null</td><td>null</td><td>null</td><td>null</td><td>null</td></tr><tr><td>&quot;Wonder Woman Flight of Courage&quot;</td><td>&quot;Six Flags Magic Mountain&quot;</td><td>&quot;in_production&quot;</td><td>&quot;steel&quot;</td><td>&quot;Rocky Mountain Construction&quot;</td><td>1000.0</td><td>40.0</td><td>93.0</td><td>null</td><td>null</td><td>null</td><td>2022-01-01</td><td>null</td><td>null</td><td>null</td></tr></tbody></table></div>"
      ],
      "text/plain": [
       "shape: (990, 15)\n",
       "┌────────────┬───────────┬───────────┬──────────┬───┬───────────┬───────────┬──────────┬───────────┐\n",
       "│ name       ┆ location  ┆ status    ┆ material ┆ … ┆ opening_d ┆ closing_y ┆ latitude ┆ longitude │\n",
       "│ ---        ┆ ---       ┆ ---       ┆ ---      ┆   ┆ ate       ┆ ear       ┆ ---      ┆ ---       │\n",
       "│ str        ┆ str       ┆ cat       ┆ cat      ┆   ┆ ---       ┆ ---       ┆ f64      ┆ f64       │\n",
       "│            ┆           ┆           ┆          ┆   ┆ date      ┆ i16       ┆          ┆           │\n",
       "╞════════════╪═══════════╪═══════════╪══════════╪═══╪═══════════╪═══════════╪══════════╪═══════════╡\n",
       "│ Switchback ┆ Coney     ┆ closed    ┆ wood     ┆ … ┆ 1884-06-1 ┆ null      ┆ 40.574   ┆ -73.978   │\n",
       "│ Railway    ┆ Island    ┆           ┆          ┆   ┆ 6         ┆           ┆          ┆           │\n",
       "│ Flip Flap  ┆ Sea Lion  ┆ closed    ┆ wood     ┆ … ┆ 1895-01-0 ┆ 1902      ┆ 40.578   ┆ -73.979   │\n",
       "│ Railway    ┆ Park      ┆           ┆          ┆   ┆ 1         ┆           ┆          ┆           │\n",
       "│ Switchback ┆ Cleveland ┆ closed    ┆ other    ┆ … ┆ null      ┆ null      ┆ 41.58    ┆ -81.57    │\n",
       "│ Railway    ┆ , Ohio,   ┆           ┆          ┆   ┆           ┆           ┆          ┆           │\n",
       "│ (Euclid    ┆ United    ┆           ┆          ┆   ┆           ┆           ┆          ┆           │\n",
       "│ Bea…       ┆ States    ┆           ┆          ┆   ┆           ┆           ┆          ┆           │\n",
       "│ Loop the   ┆ Other     ┆ closed    ┆ steel    ┆ … ┆ 1901-01-0 ┆ 1910      ┆ 40.5745  ┆ -73.978   │\n",
       "│ Loop       ┆           ┆           ┆          ┆   ┆ 1         ┆           ┆          ┆           │\n",
       "│ (Coney     ┆           ┆           ┆          ┆   ┆           ┆           ┆          ┆           │\n",
       "│ Island)    ┆           ┆           ┆          ┆   ┆           ┆           ┆          ┆           │\n",
       "│ Loop the   ┆ Other     ┆ closed    ┆ steel    ┆ … ┆ 1901-01-0 ┆ 1912      ┆ 39.3538  ┆ -74.4342  │\n",
       "│ Loop       ┆           ┆           ┆          ┆   ┆ 1         ┆           ┆          ┆           │\n",
       "│ (Young's   ┆           ┆           ┆          ┆   ┆           ┆           ┆          ┆           │\n",
       "│ Pier)      ┆           ┆           ┆          ┆   ┆           ┆           ┆          ┆           │\n",
       "│ …          ┆ …         ┆ …         ┆ …        ┆ … ┆ …         ┆ …         ┆ …        ┆ …         │\n",
       "│ Ice        ┆ SeaWorld  ┆ in_produc ┆ steel    ┆ … ┆ 2022-02-0 ┆ null      ┆ 28.4088  ┆ -81.4633  │\n",
       "│ Breaker    ┆ Orlando   ┆ tion      ┆          ┆   ┆ 1         ┆           ┆          ┆           │\n",
       "│ (roller    ┆           ┆           ┆          ┆   ┆           ┆           ┆          ┆           │\n",
       "│ coaster)   ┆           ┆           ┆          ┆   ┆           ┆           ┆          ┆           │\n",
       "│ Leviathan  ┆ Sea World ┆ in_produc ┆ wood     ┆ … ┆ 2022-01-0 ┆ null      ┆ -27.9574 ┆ 153.4263  │\n",
       "│ (Sea       ┆           ┆ tion      ┆          ┆   ┆ 1         ┆           ┆          ┆           │\n",
       "│ World)     ┆           ┆           ┆          ┆   ┆           ┆           ┆          ┆           │\n",
       "│ Pantheon   ┆ Busch     ┆ in_produc ┆ steel    ┆ … ┆ 2022-01-0 ┆ null      ┆ 37.2339  ┆ -76.6426  │\n",
       "│ (roller    ┆ Gardens   ┆ tion      ┆          ┆   ┆ 1         ┆           ┆          ┆           │\n",
       "│ coaster)   ┆ Williamsb ┆           ┆          ┆   ┆           ┆           ┆          ┆           │\n",
       "│            ┆ urg       ┆           ┆          ┆   ┆           ┆           ┆          ┆           │\n",
       "│ Tumbili    ┆ Kings     ┆ in_produc ┆ steel    ┆ … ┆ null      ┆ null      ┆ null     ┆ null      │\n",
       "│            ┆ Dominion  ┆ tion      ┆          ┆   ┆           ┆           ┆          ┆           │\n",
       "│ Wonder     ┆ Six Flags ┆ in_produc ┆ steel    ┆ … ┆ 2022-01-0 ┆ null      ┆ null     ┆ null      │\n",
       "│ Woman      ┆ Magic     ┆ tion      ┆          ┆   ┆ 1         ┆           ┆          ┆           │\n",
       "│ Flight of  ┆ Mountain  ┆           ┆          ┆   ┆           ┆           ┆          ┆           │\n",
       "│ Courage    ┆           ┆           ┆          ┆   ┆           ┆           ┆          ┆           │\n",
       "└────────────┴───────────┴───────────┴──────────┴───┴───────────┴───────────┴──────────┴───────────┘"
      ]
     },
     "execution_count": 60,
     "metadata": {},
     "output_type": "execute_result"
    }
   ],
   "source": [
    "df = pl.read_ipc('./data/coaster_db-cleaned.arrow')\n",
    "df"
   ]
  },
  {
   "cell_type": "markdown",
   "metadata": {},
   "source": [
    "### Analyze material used\n"
   ]
  },
  {
   "cell_type": "code",
   "execution_count": 61,
   "metadata": {},
   "outputs": [
    {
     "data": {
      "text/html": [
       "\n",
       "<style>\n",
       "  #altair-viz-36a41dba28604457afe15e0a108b0b9b.vega-embed {\n",
       "    width: 100%;\n",
       "    display: flex;\n",
       "  }\n",
       "\n",
       "  #altair-viz-36a41dba28604457afe15e0a108b0b9b.vega-embed details,\n",
       "  #altair-viz-36a41dba28604457afe15e0a108b0b9b.vega-embed details summary {\n",
       "    position: relative;\n",
       "  }\n",
       "</style>\n",
       "<div id=\"altair-viz-36a41dba28604457afe15e0a108b0b9b\"></div>\n",
       "<script type=\"text/javascript\">\n",
       "  var VEGA_DEBUG = (typeof VEGA_DEBUG == \"undefined\") ? {} : VEGA_DEBUG;\n",
       "  (function(spec, embedOpt){\n",
       "    let outputDiv = document.currentScript.previousElementSibling;\n",
       "    if (outputDiv.id !== \"altair-viz-36a41dba28604457afe15e0a108b0b9b\") {\n",
       "      outputDiv = document.getElementById(\"altair-viz-36a41dba28604457afe15e0a108b0b9b\");\n",
       "    }\n",
       "    const paths = {\n",
       "      \"vega\": \"https://cdn.jsdelivr.net/npm/vega@5?noext\",\n",
       "      \"vega-lib\": \"https://cdn.jsdelivr.net/npm/vega-lib?noext\",\n",
       "      \"vega-lite\": \"https://cdn.jsdelivr.net/npm/vega-lite@5.20.1?noext\",\n",
       "      \"vega-embed\": \"https://cdn.jsdelivr.net/npm/vega-embed@6?noext\",\n",
       "    };\n",
       "\n",
       "    function maybeLoadScript(lib, version) {\n",
       "      var key = `${lib.replace(\"-\", \"\")}_version`;\n",
       "      return (VEGA_DEBUG[key] == version) ?\n",
       "        Promise.resolve(paths[lib]) :\n",
       "        new Promise(function(resolve, reject) {\n",
       "          var s = document.createElement('script');\n",
       "          document.getElementsByTagName(\"head\")[0].appendChild(s);\n",
       "          s.async = true;\n",
       "          s.onload = () => {\n",
       "            VEGA_DEBUG[key] = version;\n",
       "            return resolve(paths[lib]);\n",
       "          };\n",
       "          s.onerror = () => reject(`Error loading script: ${paths[lib]}`);\n",
       "          s.src = paths[lib];\n",
       "        });\n",
       "    }\n",
       "\n",
       "    function showError(err) {\n",
       "      outputDiv.innerHTML = `<div class=\"error\" style=\"color:red;\">${err}</div>`;\n",
       "      throw err;\n",
       "    }\n",
       "\n",
       "    function displayChart(vegaEmbed) {\n",
       "      vegaEmbed(outputDiv, spec, embedOpt)\n",
       "        .catch(err => showError(`Javascript Error: ${err.message}<br>This usually means there's a typo in your chart specification. See the javascript console for the full traceback.`));\n",
       "    }\n",
       "\n",
       "    if(typeof define === \"function\" && define.amd) {\n",
       "      requirejs.config({paths});\n",
       "      require([\"vega-embed\"], displayChart, err => showError(`Error loading script: ${err.message}`));\n",
       "    } else {\n",
       "      maybeLoadScript(\"vega\", \"5\")\n",
       "        .then(() => maybeLoadScript(\"vega-lite\", \"5.20.1\"))\n",
       "        .then(() => maybeLoadScript(\"vega-embed\", \"6\"))\n",
       "        .catch(showError)\n",
       "        .then(() => displayChart(vegaEmbed));\n",
       "    }\n",
       "  })({\"config\": {\"view\": {\"continuousWidth\": 300, \"continuousHeight\": 300}}, \"data\": {\"name\": \"data-86d8875035ba803947e7445abc74030f\"}, \"mark\": {\"type\": \"arc\"}, \"encoding\": {\"color\": {\"field\": \"material\", \"type\": \"nominal\"}, \"theta\": {\"field\": \"len\", \"type\": \"quantitative\"}, \"tooltip\": [{\"field\": \"material\", \"type\": \"ordinal\"}, {\"field\": \"len\", \"type\": \"quantitative\"}]}, \"$schema\": \"https://vega.github.io/schema/vega-lite/v5.20.1.json\", \"datasets\": {\"data-86d8875035ba803947e7445abc74030f\": [{\"material\": \"wood\", \"len\": 191}, {\"material\": \"steel\", \"len\": 728}, {\"material\": \"other\", \"len\": 71}]}}, {\"mode\": \"vega-lite\"});\n",
       "</script>"
      ],
      "text/plain": [
       "alt.Chart(...)"
      ]
     },
     "execution_count": 61,
     "metadata": {},
     "output_type": "execute_result"
    }
   ],
   "source": [
    "alt.Chart(df.group_by('material').len()).mark_arc().encode(\n",
    "    theta=alt.Theta(field='len', type='quantitative'),\n",
    "    color=alt.Color(field='material', type='nominal'),\n",
    "    tooltip=['material', 'len']\n",
    ")"
   ]
  },
  {
   "cell_type": "markdown",
   "metadata": {},
   "source": [
    "### Analyze status\n"
   ]
  },
  {
   "cell_type": "code",
   "execution_count": 62,
   "metadata": {},
   "outputs": [
    {
     "data": {
      "text/html": [
       "\n",
       "<style>\n",
       "  #altair-viz-39afd92979b34215b922dd0f59961f59.vega-embed {\n",
       "    width: 100%;\n",
       "    display: flex;\n",
       "  }\n",
       "\n",
       "  #altair-viz-39afd92979b34215b922dd0f59961f59.vega-embed details,\n",
       "  #altair-viz-39afd92979b34215b922dd0f59961f59.vega-embed details summary {\n",
       "    position: relative;\n",
       "  }\n",
       "</style>\n",
       "<div id=\"altair-viz-39afd92979b34215b922dd0f59961f59\"></div>\n",
       "<script type=\"text/javascript\">\n",
       "  var VEGA_DEBUG = (typeof VEGA_DEBUG == \"undefined\") ? {} : VEGA_DEBUG;\n",
       "  (function(spec, embedOpt){\n",
       "    let outputDiv = document.currentScript.previousElementSibling;\n",
       "    if (outputDiv.id !== \"altair-viz-39afd92979b34215b922dd0f59961f59\") {\n",
       "      outputDiv = document.getElementById(\"altair-viz-39afd92979b34215b922dd0f59961f59\");\n",
       "    }\n",
       "    const paths = {\n",
       "      \"vega\": \"https://cdn.jsdelivr.net/npm/vega@5?noext\",\n",
       "      \"vega-lib\": \"https://cdn.jsdelivr.net/npm/vega-lib?noext\",\n",
       "      \"vega-lite\": \"https://cdn.jsdelivr.net/npm/vega-lite@5.20.1?noext\",\n",
       "      \"vega-embed\": \"https://cdn.jsdelivr.net/npm/vega-embed@6?noext\",\n",
       "    };\n",
       "\n",
       "    function maybeLoadScript(lib, version) {\n",
       "      var key = `${lib.replace(\"-\", \"\")}_version`;\n",
       "      return (VEGA_DEBUG[key] == version) ?\n",
       "        Promise.resolve(paths[lib]) :\n",
       "        new Promise(function(resolve, reject) {\n",
       "          var s = document.createElement('script');\n",
       "          document.getElementsByTagName(\"head\")[0].appendChild(s);\n",
       "          s.async = true;\n",
       "          s.onload = () => {\n",
       "            VEGA_DEBUG[key] = version;\n",
       "            return resolve(paths[lib]);\n",
       "          };\n",
       "          s.onerror = () => reject(`Error loading script: ${paths[lib]}`);\n",
       "          s.src = paths[lib];\n",
       "        });\n",
       "    }\n",
       "\n",
       "    function showError(err) {\n",
       "      outputDiv.innerHTML = `<div class=\"error\" style=\"color:red;\">${err}</div>`;\n",
       "      throw err;\n",
       "    }\n",
       "\n",
       "    function displayChart(vegaEmbed) {\n",
       "      vegaEmbed(outputDiv, spec, embedOpt)\n",
       "        .catch(err => showError(`Javascript Error: ${err.message}<br>This usually means there's a typo in your chart specification. See the javascript console for the full traceback.`));\n",
       "    }\n",
       "\n",
       "    if(typeof define === \"function\" && define.amd) {\n",
       "      requirejs.config({paths});\n",
       "      require([\"vega-embed\"], displayChart, err => showError(`Error loading script: ${err.message}`));\n",
       "    } else {\n",
       "      maybeLoadScript(\"vega\", \"5\")\n",
       "        .then(() => maybeLoadScript(\"vega-lite\", \"5.20.1\"))\n",
       "        .then(() => maybeLoadScript(\"vega-embed\", \"6\"))\n",
       "        .catch(showError)\n",
       "        .then(() => displayChart(vegaEmbed));\n",
       "    }\n",
       "  })({\"config\": {\"view\": {\"continuousWidth\": 300, \"continuousHeight\": 300}}, \"data\": {\"name\": \"data-c8d4d0f087ff7d4ab4999691cea235c4\"}, \"mark\": {\"type\": \"bar\"}, \"encoding\": {\"color\": {\"field\": \"status\", \"type\": \"nominal\"}, \"tooltip\": [{\"field\": \"status\", \"type\": \"ordinal\"}, {\"field\": \"len\", \"type\": \"quantitative\"}], \"x\": {\"field\": \"status\", \"type\": \"nominal\"}, \"y\": {\"field\": \"len\", \"type\": \"quantitative\"}}, \"width\": 500, \"$schema\": \"https://vega.github.io/schema/vega-lite/v5.20.1.json\", \"datasets\": {\"data-c8d4d0f087ff7d4ab4999691cea235c4\": [{\"status\": \"under_maintenance\", \"len\": 2}, {\"status\": \"unknown\", \"len\": 146}, {\"status\": \"operating\", \"len\": 646}, {\"status\": \"closed\", \"len\": 167}, {\"status\": \"in_production\", \"len\": 25}, {\"status\": \"temporary_closed\", \"len\": 2}, {\"status\": \"sbno\", \"len\": 2}]}}, {\"mode\": \"vega-lite\"});\n",
       "</script>"
      ],
      "text/plain": [
       "alt.Chart(...)"
      ]
     },
     "execution_count": 62,
     "metadata": {},
     "output_type": "execute_result"
    }
   ],
   "source": [
    "alt.Chart(df.group_by('status').len()).mark_bar().encode(\n",
    "    x=alt.X(field='status', type='nominal'),\n",
    "    y=alt.Y(field='len', type='quantitative'),\n",
    "    tooltip=['status', 'len'],\n",
    "    color=alt.Color(field='status', type='nominal')\n",
    ").properties(width=500)"
   ]
  }
 ],
 "metadata": {
  "kernelspec": {
   "display_name": ".venv",
   "language": "python",
   "name": "python3"
  },
  "language_info": {
   "codemirror_mode": {
    "name": "ipython",
    "version": 3
   },
   "file_extension": ".py",
   "mimetype": "text/x-python",
   "name": "python",
   "nbconvert_exporter": "python",
   "pygments_lexer": "ipython3",
   "version": "3.12.3"
  }
 },
 "nbformat": 4,
 "nbformat_minor": 2
}
